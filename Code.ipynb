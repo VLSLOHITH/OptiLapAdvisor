{
 "cells": [
  {
   "cell_type": "markdown",
   "id": "dcee9ba3-477c-4f0b-ac4e-f1c76d1ebd50",
   "metadata": {},
   "source": [
    "# Retriving the Data from Amazon Html pages using WebScraping"
   ]
  },
  {
   "cell_type": "markdown",
   "id": "f690686f-d84c-4c69-ae74-7115f401e20b",
   "metadata": {
    "execution": {
     "iopub.execute_input": "2023-12-30T08:33:06.256994Z",
     "iopub.status.busy": "2023-12-30T08:33:06.256994Z",
     "iopub.status.idle": "2023-12-30T08:33:16.337027Z",
     "shell.execute_reply": "2023-12-30T08:33:16.336320Z",
     "shell.execute_reply.started": "2023-12-30T08:33:06.256994Z"
    },
    "tags": []
   },
   "source": [
    "from bs4 import BeautifulSoup\n",
    "import openpyxl\n",
    "\n",
    "# Load the HTML file\n",
    "for i in range(20):\n",
    "    url= r'C:\\Users\\sailo\\Downloads\\HTML Files Laptop\\laptops{}.html'.format(i+1)\n",
    "    with open(url, encoding='utf-8') as file:\n",
    "        html_content = file.read()\n",
    "\n",
    "    soup = BeautifulSoup(html_content, 'html.parser')\n",
    "\n",
    "    # Find all divs with the specified class\n",
    "    results = soup.find_all(\"div\", class_=\"sg-col-20-of-24 s-result-item s-asin sg-col-0-of-12 sg-col-16-of-20 AdHolder sg-col s-widget-spacing-small sg-col-12-of-16\")\n",
    "\n",
    "    # Create or load the Excel file\n",
    "    workbook = openpyxl.Workbook()\n",
    "    sheet = workbook.active\n",
    "    sheet.title = \"Laptop Data\"\n",
    "\n",
    "    # Write headers\n",
    "    sheet['A1'] = 'Link'\n",
    "    sheet['B1'] = 'Title'\n",
    "    sheet['C1'] = 'Rating'\n",
    "    sheet['D1'] = 'Price'\n",
    "\n",
    "    row = 2  # Start from the second row to write data\n",
    "    for result in results:\n",
    "        # Find the image link if available\n",
    "        img_tag = result.find(\"img\", class_=\"s-image\")\n",
    "        link = img_tag['src'] if img_tag else ''\n",
    "\n",
    "        # Find the title if available\n",
    "        title_tag = result.find(\"span\", class_=\"a-size-medium a-color-base a-text-normal\")\n",
    "        title = title_tag.get_text() if title_tag else ''\n",
    "\n",
    "        # Find the rating if available\n",
    "        rating_tag = result.find(\"span\", class_=\"a-icon-alt\")\n",
    "        rating = rating_tag.get_text() if rating_tag else ''\n",
    "\n",
    "        # Find the price if available\n",
    "        price_tag = result.find(\"span\", class_=\"a-price-whole\")\n",
    "        price = price_tag.get_text() if price_tag else ''\n",
    "\n",
    "        # Write the data to the Excel file\n",
    "        sheet[f'A{row}'] = link\n",
    "        sheet[f'B{row}'] = title\n",
    "        sheet[f'C{row}'] = rating\n",
    "        sheet[f'D{row}'] = price\n",
    "\n",
    "        row += 1\n",
    "\n",
    "    # Save the workbook\n",
    "    data=f'Laptop_Extradata{i+1}.xlsx'\n",
    "    workbook.save(data)\n"
   ]
  },
  {
   "cell_type": "code",
   "execution_count": 1,
   "id": "e51910e0-722b-4ec6-8772-de5ed6591372",
   "metadata": {
    "execution": {
     "iopub.execute_input": "2024-01-19T15:05:02.546465Z",
     "iopub.status.busy": "2024-01-19T15:05:02.546465Z",
     "iopub.status.idle": "2024-01-19T15:05:03.876452Z",
     "shell.execute_reply": "2024-01-19T15:05:03.875792Z",
     "shell.execute_reply.started": "2024-01-19T15:05:02.546465Z"
    },
    "tags": []
   },
   "outputs": [],
   "source": [
    "import pandas as pd\n",
    "import numpy as np\n"
   ]
  },
  {
   "cell_type": "code",
   "execution_count": 77,
   "id": "ab437508-dcad-4020-a1d9-a193682a714f",
   "metadata": {
    "execution": {
     "iopub.execute_input": "2024-01-19T15:08:45.567468Z",
     "iopub.status.busy": "2024-01-19T15:08:45.567468Z",
     "iopub.status.idle": "2024-01-19T15:08:45.576325Z",
     "shell.execute_reply": "2024-01-19T15:08:45.575625Z",
     "shell.execute_reply.started": "2024-01-19T15:08:45.567468Z"
    },
    "jupyter": {
     "source_hidden": true
    },
    "tags": []
   },
   "outputs": [],
   "source": [
    "import warnings\n",
    "warnings.filterwarnings(\"ignore\")"
   ]
  },
  {
   "cell_type": "code",
   "execution_count": 2,
   "id": "0d9144d0-e2bd-492c-be7f-fa49c4da89ed",
   "metadata": {
    "execution": {
     "iopub.execute_input": "2024-01-19T15:05:03.879251Z",
     "iopub.status.busy": "2024-01-19T15:05:03.879251Z",
     "iopub.status.idle": "2024-01-19T15:05:05.035364Z",
     "shell.execute_reply": "2024-01-19T15:05:05.035364Z",
     "shell.execute_reply.started": "2024-01-19T15:05:03.879251Z"
    },
    "jupyter": {
     "source_hidden": true
    },
    "tags": []
   },
   "outputs": [],
   "source": [
    "Data=pd.read_excel(r\"C:\\Users\\sailo\\Downloads\\ML models\\What Laptop You Should Buy\\Laptop Data\\Processing.xlsx\")"
   ]
  },
  {
   "cell_type": "markdown",
   "id": "0cc4c972-88e8-40a5-a7c5-1ccb265f80e8",
   "metadata": {},
   "source": [
    "# Data Preprocessing Part 1: Data Cleaning"
   ]
  },
  {
   "cell_type": "markdown",
   "id": "bc83f0e6-2c61-4728-bfeb-459b9a44a6fe",
   "metadata": {},
   "source": [
    "Finding the Regular Patterns using re module in python and parsing the main sentence into required features"
   ]
  },
  {
   "cell_type": "code",
   "execution_count": 3,
   "id": "504d5cd8-33a1-4246-abca-dd0b24e8b2a1",
   "metadata": {
    "execution": {
     "iopub.execute_input": "2024-01-19T15:05:05.035364Z",
     "iopub.status.busy": "2024-01-19T15:05:05.035364Z",
     "iopub.status.idle": "2024-01-19T15:05:05.051021Z",
     "shell.execute_reply": "2024-01-19T15:05:05.051021Z",
     "shell.execute_reply.started": "2024-01-19T15:05:05.035364Z"
    },
    "jupyter": {
     "source_hidden": true
    },
    "tags": []
   },
   "outputs": [],
   "source": [
    "Convert=Data['Title']"
   ]
  },
  {
   "cell_type": "code",
   "execution_count": 4,
   "id": "d4c0c53a-c980-4443-b541-d179cca104e5",
   "metadata": {
    "execution": {
     "iopub.execute_input": "2024-01-19T15:05:05.053212Z",
     "iopub.status.busy": "2024-01-19T15:05:05.053212Z",
     "iopub.status.idle": "2024-01-19T15:05:05.067062Z",
     "shell.execute_reply": "2024-01-19T15:05:05.067062Z",
     "shell.execute_reply.started": "2024-01-19T15:05:05.053212Z"
    },
    "jupyter": {
     "source_hidden": true
    },
    "tags": []
   },
   "outputs": [],
   "source": [
    "Brand=[]\n",
    "ProductName=[]\n",
    "RAM=[]\n",
    "Storage=[]\n",
    "Size=[]\n",
    "Gaming=[]\n",
    "FingerPrint=[]\n",
    "OLED=[]\n",
    "SSD=[]\n",
    "Renewed=[]\n",
    "Processor=[]\n"
   ]
  },
  {
   "cell_type": "code",
   "execution_count": 5,
   "id": "398c83f3-9ff0-4546-96c1-07cac939fa22",
   "metadata": {
    "execution": {
     "iopub.execute_input": "2024-01-19T15:05:05.067062Z",
     "iopub.status.busy": "2024-01-19T15:05:05.067062Z",
     "iopub.status.idle": "2024-01-19T15:05:05.153826Z",
     "shell.execute_reply": "2024-01-19T15:05:05.153826Z",
     "shell.execute_reply.started": "2024-01-19T15:05:05.067062Z"
    },
    "jupyter": {
     "source_hidden": true
    },
    "tags": []
   },
   "outputs": [],
   "source": [
    "import re\n",
    "\n",
    "for index,i in enumerate(Convert):\n",
    "    text = i\n",
    "\n",
    "    # Define regular expressions for each attribute\n",
    "    ram_pattern = re.compile(r'(\\d+)\\s?GB',re.IGNORECASE)\n",
    "    processor_pattern = re.compile(r'([i]\\d-?\\s?\\d*u?|ryzen\\s?\\w*\\d+\\s?-?\\d*(u|h|hs)?|Athlon\\s?\\w*\\s?\\d*U?|M1 chip|gemini\\s\\w*\\sn4020|mediatek 8788| celeron\\s?N\\d+|intel\\s?\\w+\\s\\w+\\sn?\\d+)',re.IGNORECASE)\n",
    "    storage_pattern = re.compile(r'((([1-9][0-9][0-9]|64)\\s?(GB|ssd))|(\\d+\\s?TB))',re.IGNORECASE)\n",
    "    size_pattern = re.compile(r'(\\d+\\.?\\d*)(\\s|-)?(cm|inch|\")',re.IGNORECASE)\n",
    "#     graphic_pattern = re.compile(r'\\w*\\sGraphics')\n",
    "    gaming_pattern=re.compile(r'(gaming)',re.IGNORECASE)\n",
    "    ssd_pattern=re.compile(r'(ssd)',re.IGNORECASE)\n",
    "    brand_pattern=re.compile(r'(hp|acer|lenovo|dell|asus|apple|jio|msi|avita|samsung|zebronics|Honor|microsoft|xiaomi|walker|chuwi|redmi|axl|realme|fujitsu|futopia|agb)',re.IGNORECASE)\n",
    "    productName_pattern=re.compile(r'(hp\\s?\\w*|acer\\s?\\w*|lenovo\\s?\\w*|dell\\s?\\w*|asus\\s?\\w*|apple\\s?\\w*|jio\\s?\\w*|msi\\s?\\w*|avita\\s?\\w*|samsung\\s?\\w*|zebronics\\s?\\w*|Honor\\s?\\w*|microsoft\\s?\\w*|xiaomi\\s?\\w*|walker\\s?\\w*|chuwi\\s?\\w*|redmi\\s?\\w*|axl\\s?\\w*|realme\\s?\\w*|fujitsu\\s?\\w*|futopia\\s?\\w*|agb\\s?\\w*)',re.IGNORECASE)\n",
    "    finger_pattern=re.compile(r'(finger\\s?print)',re.IGNORECASE)\n",
    "    renewed_pattern=re.compile(r'(renewed|refurbished)',re.IGNORECASE)\n",
    "    oled_pattern=re.compile(r'oled',re.IGNORECASE)\n",
    "    \n",
    "    # Find matches for each attribute\n",
    "    ram = re.search(ram_pattern, text)\n",
    "    processor = re.search(processor_pattern, text)\n",
    "    storage = re.search(storage_pattern, text)\n",
    "    size = re.search(size_pattern, text)\n",
    "#     graphic = re.search(graphic_pattern, text)\n",
    "    gaming=re.search(gaming_pattern,text)\n",
    "    ssd=re.search(ssd_pattern,text)\n",
    "    fingerprint=re.search(finger_pattern,text)\n",
    "    brand=re.search(brand_pattern,text)\n",
    "    renewed=re.search(renewed_pattern,text)\n",
    "    oled=re.search(oled_pattern,text)\n",
    "    productName=re.search(productName_pattern,text)\n",
    "\n",
    "\n",
    "\n",
    "    # Extract the values\n",
    "    ram_value = ram.group() if ram else None\n",
    "    processor_value = processor.group() if processor else None\n",
    "    storage_value = storage.group() if storage else None\n",
    "    size_value = size.group() if size else None\n",
    "#     graphic_value = 1 if graphic else 0\n",
    "    gaming_or_not= 1 if gaming else 0\n",
    "    ssd_or_not=1 if ssd else 0\n",
    "    FingerPrint_or_not= 1 if fingerprint else 0\n",
    "    brand_value=brand.group() if brand else None\n",
    "    renewed_or_not=1 if renewed else 0\n",
    "    oled_or_not=1 if oled else 0\n",
    "    ProductName_value=productName.group() if productName else None\n",
    "\n",
    "\n",
    "    # Display the extracted attributes\n",
    "#     print(\"{\")\n",
    "#     print(\"Brand:\",brand_value)\n",
    "#     print(\"Prodct Name:\",ProductName_value)\n",
    "#     print(\"RAM:\", ram_value)\n",
    "#     print(\"Processor:\", processor_value)\n",
    "#     print(\"Storage:\", storage_value)\n",
    "#     print(\"Size:\", size_value)\n",
    "#     print(\"Graphic:\", graphic_value)\n",
    "#     print(\"Gaming:\",gaming_or_not)\n",
    "#     print(\"SSD:\",ssd_or_not)\n",
    "#     print(\"Finger Print:\",FingerPrint_or_not)\n",
    "#     print(\"OLED:\",oled_or_not)\n",
    "#     print(\"Renewed:\",renewed_or_not)\n",
    "#     print(\"}\")\n",
    "    Brand.append(brand_value)\n",
    "    ProductName.append(ProductName_value)\n",
    "    RAM.append(ram_value)\n",
    "    Storage.append(storage_value)\n",
    "    Size.append(size_value)\n",
    "#     Graphic.append(graphic_value)\n",
    "    Gaming.append(gaming_or_not)\n",
    "    FingerPrint.append(FingerPrint_or_not)\n",
    "    OLED.append(oled_or_not)\n",
    "    SSD.append(ssd_or_not)\n",
    "    Renewed.append(renewed_or_not)\n",
    "    Processor.append(processor_value)"
   ]
  },
  {
   "cell_type": "code",
   "execution_count": 6,
   "id": "6fa6a065-96ed-4ce5-a968-0c774705d0a4",
   "metadata": {
    "execution": {
     "iopub.execute_input": "2024-01-19T15:05:05.153826Z",
     "iopub.status.busy": "2024-01-19T15:05:05.153826Z",
     "iopub.status.idle": "2024-01-19T15:05:05.185644Z",
     "shell.execute_reply": "2024-01-19T15:05:05.185644Z",
     "shell.execute_reply.started": "2024-01-19T15:05:05.153826Z"
    },
    "tags": []
   },
   "outputs": [],
   "source": [
    "Data[\"Brand\"]=Brand\n",
    "Data[\"ProductName\"]=ProductName\n",
    "Data[\"Processor\"]=Processor\n",
    "Data[\"RAM\"]=RAM\n",
    "Data[\"Storage\"]=Storage\n",
    "Data[\"Size\"]=Size\n",
    "# Data[\"Graphic\"]=Graphic\n",
    "Data[\"Gaming\"]=Gaming\n",
    "Data[\"FingerPrint\"]=FingerPrint\n",
    "Data[\"OLED\"]=OLED\n",
    "Data[\"SSD\"]=SSD\n",
    "Data[\"Renewed\"]=Renewed"
   ]
  },
  {
   "cell_type": "code",
   "execution_count": 7,
   "id": "3fc3fb48-c5c5-4bfe-99fa-c5cb4ac0b7cb",
   "metadata": {
    "execution": {
     "iopub.execute_input": "2024-01-19T15:05:05.185644Z",
     "iopub.status.busy": "2024-01-19T15:05:05.185644Z",
     "iopub.status.idle": "2024-01-19T15:05:05.242506Z",
     "shell.execute_reply": "2024-01-19T15:05:05.241247Z",
     "shell.execute_reply.started": "2024-01-19T15:05:05.185644Z"
    },
    "jupyter": {
     "source_hidden": true
    },
    "tags": []
   },
   "outputs": [
    {
     "data": {
      "text/html": [
       "<div>\n",
       "<style scoped>\n",
       "    .dataframe tbody tr th:only-of-type {\n",
       "        vertical-align: middle;\n",
       "    }\n",
       "\n",
       "    .dataframe tbody tr th {\n",
       "        vertical-align: top;\n",
       "    }\n",
       "\n",
       "    .dataframe thead th {\n",
       "        text-align: right;\n",
       "    }\n",
       "</style>\n",
       "<table border=\"1\" class=\"dataframe\">\n",
       "  <thead>\n",
       "    <tr style=\"text-align: right;\">\n",
       "      <th></th>\n",
       "      <th>Link</th>\n",
       "      <th>Title</th>\n",
       "      <th>Rating</th>\n",
       "      <th>Price</th>\n",
       "      <th>Brand</th>\n",
       "      <th>ProductName</th>\n",
       "      <th>Processor</th>\n",
       "      <th>RAM</th>\n",
       "      <th>Storage</th>\n",
       "      <th>Size</th>\n",
       "      <th>Gaming</th>\n",
       "      <th>FingerPrint</th>\n",
       "      <th>OLED</th>\n",
       "      <th>SSD</th>\n",
       "      <th>Renewed</th>\n",
       "    </tr>\n",
       "  </thead>\n",
       "  <tbody>\n",
       "    <tr>\n",
       "      <th>0</th>\n",
       "      <td>./Amazon.in _ laptops_files/51qGdtu8+RL._AC_UY...</td>\n",
       "      <td>(Refurbished) Lenovo ThinkPad 6th Gen Intel Co...</td>\n",
       "      <td>4.0 out of 5 stars</td>\n",
       "      <td>15849.0</td>\n",
       "      <td>Lenovo</td>\n",
       "      <td>Lenovo ThinkPad</td>\n",
       "      <td>i5</td>\n",
       "      <td>8 GB</td>\n",
       "      <td>256 GB</td>\n",
       "      <td>14\"</td>\n",
       "      <td>0</td>\n",
       "      <td>0</td>\n",
       "      <td>0</td>\n",
       "      <td>1</td>\n",
       "      <td>1</td>\n",
       "    </tr>\n",
       "    <tr>\n",
       "      <th>1</th>\n",
       "      <td>./Amazon.in _ laptops_files/71kJlKb2r8L._AC_UY...</td>\n",
       "      <td>ASUS Vivobook 15, Intel Celeron N4020, 15.6\" (...</td>\n",
       "      <td>3.9 out of 5 stars</td>\n",
       "      <td>26990.0</td>\n",
       "      <td>ASUS</td>\n",
       "      <td>ASUS Vivobook</td>\n",
       "      <td>Celeron N4020</td>\n",
       "      <td>8GB</td>\n",
       "      <td>512GB</td>\n",
       "      <td>15.6\"</td>\n",
       "      <td>0</td>\n",
       "      <td>1</td>\n",
       "      <td>0</td>\n",
       "      <td>1</td>\n",
       "      <td>0</td>\n",
       "    </tr>\n",
       "    <tr>\n",
       "      <th>2</th>\n",
       "      <td>./Amazon.in _ laptops_files/71Blj59DzzL._AC_UY...</td>\n",
       "      <td>HP Laptop 15s, 12th Gen Intel Core i3-1215U, 1...</td>\n",
       "      <td>4.1 out of 5 stars</td>\n",
       "      <td>39699.0</td>\n",
       "      <td>HP</td>\n",
       "      <td>HP Laptop</td>\n",
       "      <td>i3-1215U</td>\n",
       "      <td>8GB</td>\n",
       "      <td>512GB</td>\n",
       "      <td>15.6-inch</td>\n",
       "      <td>0</td>\n",
       "      <td>0</td>\n",
       "      <td>0</td>\n",
       "      <td>1</td>\n",
       "      <td>0</td>\n",
       "    </tr>\n",
       "    <tr>\n",
       "      <th>3</th>\n",
       "      <td>./Amazon.in _ laptops_files/71R-AObyPFL._AC_UY...</td>\n",
       "      <td>HP 255 G8 Notebook PC,AMD Ryzen 3 3250U, 15.6 ...</td>\n",
       "      <td>4.1 out of 5 stars</td>\n",
       "      <td>28850.0</td>\n",
       "      <td>HP</td>\n",
       "      <td>HP 255</td>\n",
       "      <td>Ryzen 3 3250U</td>\n",
       "      <td>8GB</td>\n",
       "      <td>512GB</td>\n",
       "      <td>15.6 inch</td>\n",
       "      <td>0</td>\n",
       "      <td>0</td>\n",
       "      <td>0</td>\n",
       "      <td>1</td>\n",
       "      <td>0</td>\n",
       "    </tr>\n",
       "    <tr>\n",
       "      <th>4</th>\n",
       "      <td>./Amazon.in _ laptops_files/6108kY7UAtL._AC_UY...</td>\n",
       "      <td>(Refurbished) Lenovo ThinkPad 5th Gen Intel Co...</td>\n",
       "      <td>3.3 out of 5 stars</td>\n",
       "      <td>14999.0</td>\n",
       "      <td>Lenovo</td>\n",
       "      <td>Lenovo ThinkPad</td>\n",
       "      <td>i5</td>\n",
       "      <td>16 GB</td>\n",
       "      <td>256 GB</td>\n",
       "      <td>14\"</td>\n",
       "      <td>0</td>\n",
       "      <td>0</td>\n",
       "      <td>0</td>\n",
       "      <td>1</td>\n",
       "      <td>1</td>\n",
       "    </tr>\n",
       "  </tbody>\n",
       "</table>\n",
       "</div>"
      ],
      "text/plain": [
       "                                                Link  \\\n",
       "0  ./Amazon.in _ laptops_files/51qGdtu8+RL._AC_UY...   \n",
       "1  ./Amazon.in _ laptops_files/71kJlKb2r8L._AC_UY...   \n",
       "2  ./Amazon.in _ laptops_files/71Blj59DzzL._AC_UY...   \n",
       "3  ./Amazon.in _ laptops_files/71R-AObyPFL._AC_UY...   \n",
       "4  ./Amazon.in _ laptops_files/6108kY7UAtL._AC_UY...   \n",
       "\n",
       "                                               Title              Rating  \\\n",
       "0  (Refurbished) Lenovo ThinkPad 6th Gen Intel Co...  4.0 out of 5 stars   \n",
       "1  ASUS Vivobook 15, Intel Celeron N4020, 15.6\" (...  3.9 out of 5 stars   \n",
       "2  HP Laptop 15s, 12th Gen Intel Core i3-1215U, 1...  4.1 out of 5 stars   \n",
       "3  HP 255 G8 Notebook PC,AMD Ryzen 3 3250U, 15.6 ...  4.1 out of 5 stars   \n",
       "4  (Refurbished) Lenovo ThinkPad 5th Gen Intel Co...  3.3 out of 5 stars   \n",
       "\n",
       "     Price   Brand      ProductName       Processor    RAM Storage       Size  \\\n",
       "0  15849.0  Lenovo  Lenovo ThinkPad             i5    8 GB  256 GB        14\"   \n",
       "1  26990.0    ASUS    ASUS Vivobook   Celeron N4020    8GB   512GB      15.6\"   \n",
       "2  39699.0      HP        HP Laptop        i3-1215U    8GB   512GB  15.6-inch   \n",
       "3  28850.0      HP           HP 255   Ryzen 3 3250U    8GB   512GB  15.6 inch   \n",
       "4  14999.0  Lenovo  Lenovo ThinkPad             i5   16 GB  256 GB        14\"   \n",
       "\n",
       "   Gaming  FingerPrint  OLED  SSD  Renewed  \n",
       "0       0            0     0    1        1  \n",
       "1       0            1     0    1        0  \n",
       "2       0            0     0    1        0  \n",
       "3       0            0     0    1        0  \n",
       "4       0            0     0    1        1  "
      ]
     },
     "execution_count": 7,
     "metadata": {},
     "output_type": "execute_result"
    }
   ],
   "source": [
    "Data.head()"
   ]
  },
  {
   "cell_type": "code",
   "execution_count": 8,
   "id": "58c3792d-8a6f-4a96-9069-de72d27a9353",
   "metadata": {
    "execution": {
     "iopub.execute_input": "2024-01-19T15:05:05.245766Z",
     "iopub.status.busy": "2024-01-19T15:05:05.245766Z",
     "iopub.status.idle": "2024-01-19T15:05:05.258303Z",
     "shell.execute_reply": "2024-01-19T15:05:05.257324Z",
     "shell.execute_reply.started": "2024-01-19T15:05:05.245766Z"
    },
    "tags": []
   },
   "outputs": [],
   "source": [
    "Data=Data.iloc[:,[4,5,6,7,8,9,10,11,12,13,14,2,3]]"
   ]
  },
  {
   "cell_type": "code",
   "execution_count": 9,
   "id": "4bbc017a-96e3-4ff7-adf1-804033f79a47",
   "metadata": {
    "execution": {
     "iopub.execute_input": "2024-01-19T15:05:05.259015Z",
     "iopub.status.busy": "2024-01-19T15:05:05.259015Z",
     "iopub.status.idle": "2024-01-19T15:05:05.289707Z",
     "shell.execute_reply": "2024-01-19T15:05:05.289076Z",
     "shell.execute_reply.started": "2024-01-19T15:05:05.259015Z"
    },
    "jupyter": {
     "source_hidden": true
    },
    "tags": []
   },
   "outputs": [
    {
     "data": {
      "text/html": [
       "<div>\n",
       "<style scoped>\n",
       "    .dataframe tbody tr th:only-of-type {\n",
       "        vertical-align: middle;\n",
       "    }\n",
       "\n",
       "    .dataframe tbody tr th {\n",
       "        vertical-align: top;\n",
       "    }\n",
       "\n",
       "    .dataframe thead th {\n",
       "        text-align: right;\n",
       "    }\n",
       "</style>\n",
       "<table border=\"1\" class=\"dataframe\">\n",
       "  <thead>\n",
       "    <tr style=\"text-align: right;\">\n",
       "      <th></th>\n",
       "      <th>Brand</th>\n",
       "      <th>ProductName</th>\n",
       "      <th>Processor</th>\n",
       "      <th>RAM</th>\n",
       "      <th>Storage</th>\n",
       "      <th>Size</th>\n",
       "      <th>Gaming</th>\n",
       "      <th>FingerPrint</th>\n",
       "      <th>OLED</th>\n",
       "      <th>SSD</th>\n",
       "      <th>Renewed</th>\n",
       "      <th>Rating</th>\n",
       "      <th>Price</th>\n",
       "    </tr>\n",
       "  </thead>\n",
       "  <tbody>\n",
       "    <tr>\n",
       "      <th>0</th>\n",
       "      <td>Lenovo</td>\n",
       "      <td>Lenovo ThinkPad</td>\n",
       "      <td>i5</td>\n",
       "      <td>8 GB</td>\n",
       "      <td>256 GB</td>\n",
       "      <td>14\"</td>\n",
       "      <td>0</td>\n",
       "      <td>0</td>\n",
       "      <td>0</td>\n",
       "      <td>1</td>\n",
       "      <td>1</td>\n",
       "      <td>4.0 out of 5 stars</td>\n",
       "      <td>15849.0</td>\n",
       "    </tr>\n",
       "    <tr>\n",
       "      <th>1</th>\n",
       "      <td>ASUS</td>\n",
       "      <td>ASUS Vivobook</td>\n",
       "      <td>Celeron N4020</td>\n",
       "      <td>8GB</td>\n",
       "      <td>512GB</td>\n",
       "      <td>15.6\"</td>\n",
       "      <td>0</td>\n",
       "      <td>1</td>\n",
       "      <td>0</td>\n",
       "      <td>1</td>\n",
       "      <td>0</td>\n",
       "      <td>3.9 out of 5 stars</td>\n",
       "      <td>26990.0</td>\n",
       "    </tr>\n",
       "    <tr>\n",
       "      <th>2</th>\n",
       "      <td>HP</td>\n",
       "      <td>HP Laptop</td>\n",
       "      <td>i3-1215U</td>\n",
       "      <td>8GB</td>\n",
       "      <td>512GB</td>\n",
       "      <td>15.6-inch</td>\n",
       "      <td>0</td>\n",
       "      <td>0</td>\n",
       "      <td>0</td>\n",
       "      <td>1</td>\n",
       "      <td>0</td>\n",
       "      <td>4.1 out of 5 stars</td>\n",
       "      <td>39699.0</td>\n",
       "    </tr>\n",
       "    <tr>\n",
       "      <th>3</th>\n",
       "      <td>HP</td>\n",
       "      <td>HP 255</td>\n",
       "      <td>Ryzen 3 3250U</td>\n",
       "      <td>8GB</td>\n",
       "      <td>512GB</td>\n",
       "      <td>15.6 inch</td>\n",
       "      <td>0</td>\n",
       "      <td>0</td>\n",
       "      <td>0</td>\n",
       "      <td>1</td>\n",
       "      <td>0</td>\n",
       "      <td>4.1 out of 5 stars</td>\n",
       "      <td>28850.0</td>\n",
       "    </tr>\n",
       "    <tr>\n",
       "      <th>4</th>\n",
       "      <td>Lenovo</td>\n",
       "      <td>Lenovo ThinkPad</td>\n",
       "      <td>i5</td>\n",
       "      <td>16 GB</td>\n",
       "      <td>256 GB</td>\n",
       "      <td>14\"</td>\n",
       "      <td>0</td>\n",
       "      <td>0</td>\n",
       "      <td>0</td>\n",
       "      <td>1</td>\n",
       "      <td>1</td>\n",
       "      <td>3.3 out of 5 stars</td>\n",
       "      <td>14999.0</td>\n",
       "    </tr>\n",
       "  </tbody>\n",
       "</table>\n",
       "</div>"
      ],
      "text/plain": [
       "    Brand      ProductName       Processor    RAM Storage       Size  Gaming  \\\n",
       "0  Lenovo  Lenovo ThinkPad             i5    8 GB  256 GB        14\"       0   \n",
       "1    ASUS    ASUS Vivobook   Celeron N4020    8GB   512GB      15.6\"       0   \n",
       "2      HP        HP Laptop        i3-1215U    8GB   512GB  15.6-inch       0   \n",
       "3      HP           HP 255   Ryzen 3 3250U    8GB   512GB  15.6 inch       0   \n",
       "4  Lenovo  Lenovo ThinkPad             i5   16 GB  256 GB        14\"       0   \n",
       "\n",
       "   FingerPrint  OLED  SSD  Renewed              Rating    Price  \n",
       "0            0     0    1        1  4.0 out of 5 stars  15849.0  \n",
       "1            1     0    1        0  3.9 out of 5 stars  26990.0  \n",
       "2            0     0    1        0  4.1 out of 5 stars  39699.0  \n",
       "3            0     0    1        0  4.1 out of 5 stars  28850.0  \n",
       "4            0     0    1        1  3.3 out of 5 stars  14999.0  "
      ]
     },
     "execution_count": 9,
     "metadata": {},
     "output_type": "execute_result"
    }
   ],
   "source": [
    "Data.head()"
   ]
  },
  {
   "cell_type": "markdown",
   "id": "5793a3d1-74bf-4197-9b8d-6dd0dc704f81",
   "metadata": {},
   "source": [
    "## Convering the Data of each Feature into same unit"
   ]
  },
  {
   "cell_type": "code",
   "execution_count": 10,
   "id": "34155395-c3b5-4fd5-a5ae-d8f0df406a36",
   "metadata": {
    "execution": {
     "iopub.execute_input": "2024-01-19T15:05:05.292345Z",
     "iopub.status.busy": "2024-01-19T15:05:05.292345Z",
     "iopub.status.idle": "2024-01-19T15:05:05.304934Z",
     "shell.execute_reply": "2024-01-19T15:05:05.304934Z",
     "shell.execute_reply.started": "2024-01-19T15:05:05.292345Z"
    },
    "tags": []
   },
   "outputs": [],
   "source": [
    "#converting Storage data"
   ]
  },
  {
   "cell_type": "code",
   "execution_count": 11,
   "id": "b0770345-1885-40e1-a410-b9df460b66a3",
   "metadata": {
    "execution": {
     "iopub.execute_input": "2024-01-19T15:05:05.309048Z",
     "iopub.status.busy": "2024-01-19T15:05:05.308317Z",
     "iopub.status.idle": "2024-01-19T15:05:05.321062Z",
     "shell.execute_reply": "2024-01-19T15:05:05.321062Z",
     "shell.execute_reply.started": "2024-01-19T15:05:05.308889Z"
    },
    "jupyter": {
     "source_hidden": true
    },
    "tags": []
   },
   "outputs": [],
   "source": [
    "# 1 TB = 1024 GB\n",
    "Data[\"Storage\"].replace(\"1 TB\",\"1024 GB\",inplace=True)\n",
    "Data[\"Storage\"].replace(\"1TB\",\"1024 GB\",inplace=True)"
   ]
  },
  {
   "cell_type": "code",
   "execution_count": 12,
   "id": "2548d2ed-cbc3-4a40-bdc9-370d49ca0795",
   "metadata": {
    "execution": {
     "iopub.execute_input": "2024-01-19T15:05:05.321062Z",
     "iopub.status.busy": "2024-01-19T15:05:05.321062Z",
     "iopub.status.idle": "2024-01-19T15:05:05.336944Z",
     "shell.execute_reply": "2024-01-19T15:05:05.336944Z",
     "shell.execute_reply.started": "2024-01-19T15:05:05.321062Z"
    },
    "tags": []
   },
   "outputs": [],
   "source": [
    "# spliting numeric data from the combined data in Data[\"Storage\"]"
   ]
  },
  {
   "cell_type": "code",
   "execution_count": 13,
   "id": "b1c5dac9-8425-4e65-93ec-8a5d42829fa0",
   "metadata": {
    "execution": {
     "iopub.execute_input": "2024-01-19T15:05:05.336944Z",
     "iopub.status.busy": "2024-01-19T15:05:05.336944Z",
     "iopub.status.idle": "2024-01-19T15:05:05.368421Z",
     "shell.execute_reply": "2024-01-19T15:05:05.368421Z",
     "shell.execute_reply.started": "2024-01-19T15:05:05.336944Z"
    },
    "jupyter": {
     "source_hidden": true
    },
    "tags": []
   },
   "outputs": [],
   "source": [
    "numecat=Data[\"Storage\"].str.split('(\\d+)',expand=True)\n",
    "\n",
    "Data[\"Storage\"]=numecat[1].astype(int)"
   ]
  },
  {
   "cell_type": "code",
   "execution_count": 14,
   "id": "32cceff2-b559-413d-8f95-8be2c9b2b106",
   "metadata": {
    "execution": {
     "iopub.execute_input": "2024-01-19T15:05:05.368421Z",
     "iopub.status.busy": "2024-01-19T15:05:05.368421Z",
     "iopub.status.idle": "2024-01-19T15:05:05.384325Z",
     "shell.execute_reply": "2024-01-19T15:05:05.384325Z",
     "shell.execute_reply.started": "2024-01-19T15:05:05.368421Z"
    },
    "tags": []
   },
   "outputs": [],
   "source": [
    "#converting RAM data"
   ]
  },
  {
   "cell_type": "code",
   "execution_count": 15,
   "id": "a1e8c71a-b182-4b74-9631-f8a07d3878b5",
   "metadata": {
    "execution": {
     "iopub.execute_input": "2024-01-19T15:05:05.384325Z",
     "iopub.status.busy": "2024-01-19T15:05:05.384325Z",
     "iopub.status.idle": "2024-01-19T15:05:05.400140Z",
     "shell.execute_reply": "2024-01-19T15:05:05.400140Z",
     "shell.execute_reply.started": "2024-01-19T15:05:05.384325Z"
    },
    "jupyter": {
     "source_hidden": true
    },
    "tags": []
   },
   "outputs": [],
   "source": [
    "numecat=Data[\"RAM\"].str.split('(\\d+)',expand=True)\n",
    "\n",
    "Data[\"RAM\"]=numecat[1].astype(int)"
   ]
  },
  {
   "cell_type": "code",
   "execution_count": 16,
   "id": "0fbef3a6-dcd0-4ea4-b339-7098c91fec77",
   "metadata": {
    "execution": {
     "iopub.execute_input": "2024-01-19T15:05:05.400140Z",
     "iopub.status.busy": "2024-01-19T15:05:05.400140Z",
     "iopub.status.idle": "2024-01-19T15:05:05.409149Z",
     "shell.execute_reply": "2024-01-19T15:05:05.409149Z",
     "shell.execute_reply.started": "2024-01-19T15:05:05.400140Z"
    },
    "tags": []
   },
   "outputs": [],
   "source": [
    "#converting Size data"
   ]
  },
  {
   "cell_type": "code",
   "execution_count": 17,
   "id": "1340733a-23c3-4daa-ad2d-390dc37202ba",
   "metadata": {
    "execution": {
     "iopub.execute_input": "2024-01-19T15:05:05.409149Z",
     "iopub.status.busy": "2024-01-19T15:05:05.409149Z",
     "iopub.status.idle": "2024-01-19T15:05:05.471393Z",
     "shell.execute_reply": "2024-01-19T15:05:05.471393Z",
     "shell.execute_reply.started": "2024-01-19T15:05:05.409149Z"
    },
    "jupyter": {
     "source_hidden": true
    },
    "tags": []
   },
   "outputs": [],
   "source": [
    "numecat=Data[\"Size\"].str.split('(\\d+\\.?\\d*)\\s?-?([a-zA-Z]+|\")',expand=True)\n",
    "\n",
    "numecat[1]=numecat[1].astype(float)\n",
    "\n",
    "# 1 cm = 0.3937 inches\n",
    "temp=numecat.index[(numecat[2]=='cm')|(numecat[2]=='CM')|(numecat[2]=='Cm')|(numecat[2]=='cM')].tolist()\n",
    "\n",
    "numecat.iloc[temp,1]*=0.3937\n",
    "\n",
    "Data[\"Size\"]=numecat[1]"
   ]
  },
  {
   "cell_type": "code",
   "execution_count": 18,
   "id": "12681986-3351-488e-adf2-2e8ed6a2dd43",
   "metadata": {
    "execution": {
     "iopub.execute_input": "2024-01-19T15:05:05.471393Z",
     "iopub.status.busy": "2024-01-19T15:05:05.471393Z",
     "iopub.status.idle": "2024-01-19T15:05:05.479595Z",
     "shell.execute_reply": "2024-01-19T15:05:05.479595Z",
     "shell.execute_reply.started": "2024-01-19T15:05:05.471393Z"
    },
    "tags": []
   },
   "outputs": [],
   "source": [
    "# converting Rating data"
   ]
  },
  {
   "cell_type": "code",
   "execution_count": 19,
   "id": "c452b434-8dba-43f6-aea0-8608abc7cc83",
   "metadata": {
    "execution": {
     "iopub.execute_input": "2024-01-19T15:05:05.479595Z",
     "iopub.status.busy": "2024-01-19T15:05:05.479595Z",
     "iopub.status.idle": "2024-01-19T15:05:05.509470Z",
     "shell.execute_reply": "2024-01-19T15:05:05.507600Z",
     "shell.execute_reply.started": "2024-01-19T15:05:05.479595Z"
    },
    "jupyter": {
     "source_hidden": true
    },
    "tags": []
   },
   "outputs": [],
   "source": [
    "numecat=Data[\"Rating\"].str.split('(\\d+\\.\\d*)',expand=True)\n",
    "\n",
    "Data[\"Rating\"]=numecat[1].astype(float)\n",
    "\n",
    "Data[\"Brand\"]=Data[\"Brand\"].apply(str.upper)"
   ]
  },
  {
   "cell_type": "code",
   "execution_count": 20,
   "id": "3a736666-49bd-42e2-ac79-efa163431d64",
   "metadata": {
    "execution": {
     "iopub.execute_input": "2024-01-19T15:05:05.510314Z",
     "iopub.status.busy": "2024-01-19T15:05:05.510314Z",
     "iopub.status.idle": "2024-01-19T15:05:05.539465Z",
     "shell.execute_reply": "2024-01-19T15:05:05.539465Z",
     "shell.execute_reply.started": "2024-01-19T15:05:05.510314Z"
    },
    "jupyter": {
     "source_hidden": true
    },
    "tags": []
   },
   "outputs": [
    {
     "data": {
      "text/plain": [
       "Index(['Brand', 'ProductName', 'Processor'], dtype='object')"
      ]
     },
     "execution_count": 20,
     "metadata": {},
     "output_type": "execute_result"
    }
   ],
   "source": [
    "Data.select_dtypes(\"object\").columns"
   ]
  },
  {
   "cell_type": "code",
   "execution_count": 21,
   "id": "15566f72-711d-4898-ab0b-70c9154e61f3",
   "metadata": {
    "execution": {
     "iopub.execute_input": "2024-01-19T15:05:05.542991Z",
     "iopub.status.busy": "2024-01-19T15:05:05.542991Z",
     "iopub.status.idle": "2024-01-19T15:05:05.571302Z",
     "shell.execute_reply": "2024-01-19T15:05:05.571302Z",
     "shell.execute_reply.started": "2024-01-19T15:05:05.542991Z"
    },
    "tags": []
   },
   "outputs": [
    {
     "data": {
      "text/plain": [
       "Brand           0\n",
       "ProductName     0\n",
       "Processor       0\n",
       "RAM             0\n",
       "Storage         0\n",
       "Size            0\n",
       "Gaming          0\n",
       "FingerPrint     0\n",
       "OLED            0\n",
       "SSD             0\n",
       "Renewed         0\n",
       "Rating         18\n",
       "Price           1\n",
       "dtype: int64"
      ]
     },
     "execution_count": 21,
     "metadata": {},
     "output_type": "execute_result"
    }
   ],
   "source": [
    "Data.isnull().sum()"
   ]
  },
  {
   "cell_type": "markdown",
   "id": "bfe6612f-3dbe-45f7-91a1-c3d1f5739054",
   "metadata": {},
   "source": [
    "<font color='blue'>Here there is one null value in price , so we can drop that row but there are 18 null values in Rating , we can replace with mean of data.<font>"
   ]
  },
  {
   "cell_type": "code",
   "execution_count": 22,
   "id": "0481f1b8-9ff0-4351-a24f-9d760669bc25",
   "metadata": {
    "execution": {
     "iopub.execute_input": "2024-01-19T15:05:05.577438Z",
     "iopub.status.busy": "2024-01-19T15:05:05.576535Z",
     "iopub.status.idle": "2024-01-19T15:05:05.602823Z",
     "shell.execute_reply": "2024-01-19T15:05:05.602823Z",
     "shell.execute_reply.started": "2024-01-19T15:05:05.577438Z"
    },
    "jupyter": {
     "source_hidden": true
    },
    "tags": []
   },
   "outputs": [],
   "source": [
    "Data.drop(Data.index[Data['Price'].isna()==True],inplace=True)\n",
    "Avg=Data[\"Rating\"].mean()\n",
    "Data[\"Rating\"].fillna(Avg,inplace=True)"
   ]
  },
  {
   "cell_type": "markdown",
   "id": "ac39734d-0833-4bea-92ae-109619e9b381",
   "metadata": {},
   "source": [
    "# Data Analysis\n"
   ]
  },
  {
   "cell_type": "code",
   "execution_count": 120,
   "id": "603a3583-6723-4634-8ad9-2b79aa5ca218",
   "metadata": {
    "execution": {
     "iopub.execute_input": "2024-01-19T15:11:25.024386Z",
     "iopub.status.busy": "2024-01-19T15:11:25.024386Z",
     "iopub.status.idle": "2024-01-19T15:11:25.039045Z",
     "shell.execute_reply": "2024-01-19T15:11:25.037098Z",
     "shell.execute_reply.started": "2024-01-19T15:11:25.024386Z"
    },
    "tags": []
   },
   "outputs": [],
   "source": [
    "import matplotlib.pyplot as plt\n",
    "import seaborn as sns\n",
    "import numpy as np"
   ]
  },
  {
   "cell_type": "markdown",
   "id": "1114c7da-b0fa-4891-906c-4d42da310a44",
   "metadata": {},
   "source": [
    "1. Analysis of renewed laptops correlation with other features\n"
   ]
  },
  {
   "cell_type": "code",
   "execution_count": 24,
   "id": "ecd494cb-c827-425c-9128-a2e57a1cf920",
   "metadata": {
    "execution": {
     "iopub.execute_input": "2024-01-19T15:05:07.696986Z",
     "iopub.status.busy": "2024-01-19T15:05:07.696986Z",
     "iopub.status.idle": "2024-01-19T15:05:09.188460Z",
     "shell.execute_reply": "2024-01-19T15:05:09.186699Z",
     "shell.execute_reply.started": "2024-01-19T15:05:07.696986Z"
    },
    "tags": []
   },
   "outputs": [
    {
     "data": {
      "image/png": "[encoded data removed]",
      "text/plain": [
       "<Figure size 720x720 with 6 Axes>"
      ]
     },
     "metadata": {
      "needs_background": "light"
     },
     "output_type": "display_data"
    }
   ],
   "source": [
    "fig,axes=plt.subplots(2,3,figsize=(10,10))\n",
    "Titles=[[\"Gaming\",\"FingerPrint\",\"OLED\"],[\"SSD\",\"RAM\",\"Storage\"]]\n",
    "for i in range(2):\n",
    "    for j in range(3):\n",
    "        ax=sns.countplot(x=Data['Renewed'],hue=Data[Titles[i][j]],ax=axes[i,j])\n",
    "        plt.sca(axes[i,j])\n",
    "        plt.xticks([0,1],[\"New\",\"Renewed\"])\n",
    "        ax.set(xlabel=None)\n",
    "        axes[i,j].legend(loc=\"upper right\",title=Titles[i][j])\n",
    "plt.show()"
   ]
  },
  {
   "cell_type": "code",
   "execution_count": 25,
   "id": "3de69daf-8ff4-4355-ac4a-794bb8c77080",
   "metadata": {
    "execution": {
     "iopub.execute_input": "2024-01-19T15:05:09.188460Z",
     "iopub.status.busy": "2024-01-19T15:05:09.188460Z",
     "iopub.status.idle": "2024-01-19T15:05:10.225832Z",
     "shell.execute_reply": "2024-01-19T15:05:10.224470Z",
     "shell.execute_reply.started": "2024-01-19T15:05:09.188460Z"
    },
    "tags": []
   },
   "outputs": [
    {
     "data": {
      "image/png": "[encoded data removed]",
      "text/plain": [
       "<Figure size 720x720 with 2 Axes>"
      ]
     },
     "metadata": {
      "needs_background": "light"
     },
     "output_type": "display_data"
    }
   ],
   "source": [
    "fig,axes=plt.subplots(1,2,figsize=(10,10))\n",
    "fig1=sns.boxplot(x=Data[\"Renewed\"],y=Data[\"Price\"],ax=axes[0])\n",
    "fig2=sns.countplot(x=Data[\"Renewed\"],hue=Data[\"Brand\"],ax=axes[1])\n",
    "l=[fig1,fig2]\n",
    "for i,j in enumerate(l):\n",
    "    ax=j\n",
    "    ax.set(xlabel=None)\n",
    "    plt.sca(axes[i])\n",
    "    plt.xticks([0,1],[\"New\",\"Renewed\"])\n",
    "\n",
    "plt.show()"
   ]
  },
  {
   "cell_type": "markdown",
   "id": "9e9053db-14b0-4211-b971-fd2e969ec96c",
   "metadata": {},
   "source": [
    "<font color='green'>No Renewed Laptop is Gaming or have Finger Print feature  or have OLED display but there are more percentage of SSD featured Renewed Laptops and there more percentage of 8 GB RAM Laptops Renewed  and more percent of 256 GB storage Laptops Renewed.</font>\n",
    "\n",
    "<font color='blue'>\"BY THIS ANALYSIS ONE CAN SEE THAT MOST RENEWED LAPTOPS ARE JUST AVERAGE FEATURED AND PRICE IS VERY LOW (MAX IS AROUND 40,000, AVG IS AROUND 20,000) WHEN COMPARED WITH NEW ONES AND MOST RENEWED BRAND IS LENOVO.\"<font>"
   ]
  },
  {
   "cell_type": "markdown",
   "id": "c50665be-8349-448d-8a8e-c0a5567b228e",
   "metadata": {},
   "source": [
    "2. Analysis of Brand"
   ]
  },
  {
   "cell_type": "code",
   "execution_count": 26,
   "id": "88c9bc27-6960-41ef-b489-00ddc4a55260",
   "metadata": {
    "execution": {
     "iopub.execute_input": "2024-01-19T15:05:10.228063Z",
     "iopub.status.busy": "2024-01-19T15:05:10.227233Z",
     "iopub.status.idle": "2024-01-19T15:05:10.839698Z",
     "shell.execute_reply": "2024-01-19T15:05:10.839698Z",
     "shell.execute_reply.started": "2024-01-19T15:05:10.227963Z"
    },
    "tags": []
   },
   "outputs": [
    {
     "data": {
      "image/png": "[encoded data removed]",
      "text/plain": [
       "<Figure size 1512x648 with 1 Axes>"
      ]
     },
     "metadata": {
      "needs_background": "light"
     },
     "output_type": "display_data"
    }
   ],
   "source": [
    "plt.figure(figsize=(21,9))\n",
    "plt.title(\"No.of Laptop Product Types Of Each Brand In Market\")\n",
    "sns.countplot(x=Data[\"Brand\"])\n",
    "plt.show()"
   ]
  },
  {
   "cell_type": "code",
   "execution_count": 27,
   "id": "1d5a8a4f-4f65-472f-af62-2c193e9e5f0d",
   "metadata": {
    "execution": {
     "iopub.execute_input": "2024-01-19T15:05:10.843804Z",
     "iopub.status.busy": "2024-01-19T15:05:10.839698Z",
     "iopub.status.idle": "2024-01-19T15:05:11.871198Z",
     "shell.execute_reply": "2024-01-19T15:05:11.870543Z",
     "shell.execute_reply.started": "2024-01-19T15:05:10.839698Z"
    },
    "tags": []
   },
   "outputs": [
    {
     "data": {
      "image/png": "[encoded data removed]",
      "text/plain": [
       "<Figure size 1584x648 with 1 Axes>"
      ]
     },
     "metadata": {
      "needs_background": "light"
     },
     "output_type": "display_data"
    }
   ],
   "source": [
    "plt.figure(figsize=(22,9))\n",
    "sns.countplot(x=Data[\"Brand\"],hue=Data[\"RAM\"])\n",
    "plt.legend(title=\"RAM\",loc=\"upper right\")\n",
    "plt.title(\"RAM used in each product of respective Brand\")\n",
    "plt.show()"
   ]
  },
  {
   "cell_type": "code",
   "execution_count": 28,
   "id": "6382978c-f510-4f1c-a53f-a9f0dd716f5d",
   "metadata": {
    "execution": {
     "iopub.execute_input": "2024-01-19T15:05:11.871198Z",
     "iopub.status.busy": "2024-01-19T15:05:11.871198Z",
     "iopub.status.idle": "2024-01-19T15:05:12.794974Z",
     "shell.execute_reply": "2024-01-19T15:05:12.793351Z",
     "shell.execute_reply.started": "2024-01-19T15:05:11.871198Z"
    },
    "tags": []
   },
   "outputs": [
    {
     "data": {
      "image/png": "[encoded data removed]",
      "text/plain": [
       "<Figure size 1584x648 with 1 Axes>"
      ]
     },
     "metadata": {
      "needs_background": "light"
     },
     "output_type": "display_data"
    }
   ],
   "source": [
    "plt.figure(figsize=(22,9))\n",
    "sns.countplot(x=Data[\"Brand\"],hue=Data[\"Storage\"])\n",
    "plt.legend(title=\"Storage\",loc=\"upper right\")\n",
    "plt.title(\"Storage used in each product of respective Brand\")\n",
    "plt.show()"
   ]
  },
  {
   "cell_type": "code",
   "execution_count": 29,
   "id": "a249388b-08a2-4c1d-a87b-d9671a582bb6",
   "metadata": {
    "execution": {
     "iopub.execute_input": "2024-01-19T15:05:12.796003Z",
     "iopub.status.busy": "2024-01-19T15:05:12.796003Z",
     "iopub.status.idle": "2024-01-19T15:05:15.570967Z",
     "shell.execute_reply": "2024-01-19T15:05:15.570967Z",
     "shell.execute_reply.started": "2024-01-19T15:05:12.796003Z"
    },
    "tags": []
   },
   "outputs": [
    {
     "data": {
      "image/png": "[encoded data removed]",
      "text/plain": [
       "<Figure size 1584x648 with 1 Axes>"
      ]
     },
     "metadata": {
      "needs_background": "light"
     },
     "output_type": "display_data"
    }
   ],
   "source": [
    "plt.figure(figsize=(22,9))\n",
    "sns.countplot(x=Data[\"Brand\"],hue=Data[\"Size\"])\n",
    "plt.legend(title=\"Size\",loc=\"upper right\")\n",
    "plt.title(\"Various Sizes of Prducts in each Brand\")\n",
    "plt.show()"
   ]
  },
  {
   "cell_type": "code",
   "execution_count": 30,
   "id": "7f655865-b9c4-4a59-a2f8-74f3e5c78dba",
   "metadata": {
    "execution": {
     "iopub.execute_input": "2024-01-19T15:05:15.578927Z",
     "iopub.status.busy": "2024-01-19T15:05:15.575316Z",
     "iopub.status.idle": "2024-01-19T15:05:16.225297Z",
     "shell.execute_reply": "2024-01-19T15:05:16.224358Z",
     "shell.execute_reply.started": "2024-01-19T15:05:15.578927Z"
    },
    "tags": []
   },
   "outputs": [
    {
     "data": {
      "image/png": "[encoded data removed]",
      "text/plain": [
       "<Figure size 1584x648 with 1 Axes>"
      ]
     },
     "metadata": {
      "needs_background": "light"
     },
     "output_type": "display_data"
    }
   ],
   "source": [
    "plt.figure(figsize=(22,9))\n",
    "sns.countplot(x=Data[\"Brand\"],hue=Data[\"FingerPrint\"])\n",
    "plt.legend(title=\"FingerPrint\",loc=\"upper right\",labels=(\"No\",\"Yes\"))\n",
    "plt.title(\"No.of Finger Print featured Prducts in each Brand\")\n",
    "plt.show()"
   ]
  },
  {
   "cell_type": "code",
   "execution_count": 31,
   "id": "4e26108a-79ab-4368-8d8c-7893b88e402b",
   "metadata": {
    "execution": {
     "iopub.execute_input": "2024-01-19T15:05:16.226109Z",
     "iopub.status.busy": "2024-01-19T15:05:16.226109Z",
     "iopub.status.idle": "2024-01-19T15:05:16.862642Z",
     "shell.execute_reply": "2024-01-19T15:05:16.861895Z",
     "shell.execute_reply.started": "2024-01-19T15:05:16.226109Z"
    },
    "tags": []
   },
   "outputs": [
    {
     "data": {
      "image/png": "[encoded data removed]",
      "text/plain": [
       "<Figure size 1584x648 with 1 Axes>"
      ]
     },
     "metadata": {
      "needs_background": "light"
     },
     "output_type": "display_data"
    }
   ],
   "source": [
    "plt.figure(figsize=(22,9))\n",
    "sns.countplot(x=Data[\"Brand\"],hue=Data[\"Gaming\"])\n",
    "plt.legend(title=\"Gaming\",loc=\"upper right\",labels=(\"No\",\"Yes\"))\n",
    "plt.title(\"No.of Gaming Laptops in each Brand\")\n",
    "plt.show()"
   ]
  },
  {
   "cell_type": "code",
   "execution_count": 32,
   "id": "f9f11118-7f2f-4517-b0ce-84ed245737f4",
   "metadata": {
    "execution": {
     "iopub.execute_input": "2024-01-19T15:05:16.866325Z",
     "iopub.status.busy": "2024-01-19T15:05:16.862642Z",
     "iopub.status.idle": "2024-01-19T15:05:17.574904Z",
     "shell.execute_reply": "2024-01-19T15:05:17.572040Z",
     "shell.execute_reply.started": "2024-01-19T15:05:16.866325Z"
    },
    "tags": []
   },
   "outputs": [
    {
     "data": {
      "image/png": "[encoded data removed]",
      "text/plain": [
       "<Figure size 1584x648 with 1 Axes>"
      ]
     },
     "metadata": {
      "needs_background": "light"
     },
     "output_type": "display_data"
    }
   ],
   "source": [
    "plt.figure(figsize=(22,9))\n",
    "sns.countplot(x=Data[\"Brand\"],hue=Data[\"SSD\"])\n",
    "plt.legend(title=\"SSD\",loc=\"upper right\",labels=(\"No\",\"Yes\"))\n",
    "plt.title(\"No.of SSD featured Laptops in each Brand\")\n",
    "plt.show()"
   ]
  },
  {
   "cell_type": "code",
   "execution_count": 33,
   "id": "f3cadd7c-ac6b-41c4-982f-f8dbe006b379",
   "metadata": {
    "execution": {
     "iopub.execute_input": "2024-01-19T15:05:17.578377Z",
     "iopub.status.busy": "2024-01-19T15:05:17.576168Z",
     "iopub.status.idle": "2024-01-19T15:05:18.227722Z",
     "shell.execute_reply": "2024-01-19T15:05:18.227722Z",
     "shell.execute_reply.started": "2024-01-19T15:05:17.578377Z"
    },
    "tags": []
   },
   "outputs": [
    {
     "data": {
      "image/png": "[encoded data removed]",
      "text/plain": [
       "<Figure size 1584x648 with 1 Axes>"
      ]
     },
     "metadata": {
      "needs_background": "light"
     },
     "output_type": "display_data"
    }
   ],
   "source": [
    "plt.figure(figsize=(22,9))\n",
    "sns.countplot(x=Data[\"Brand\"],hue=Data[\"OLED\"])\n",
    "plt.legend(title=\"OLED\",loc=\"upper right\",labels=(\"No\",\"Yes\"))\n",
    "plt.title(\"No.of OLED featured Laptops in each Brand\")\n",
    "plt.show()"
   ]
  },
  {
   "cell_type": "code",
   "execution_count": 34,
   "id": "09d8ae91-856e-4f25-96ba-ff7a185c1cb6",
   "metadata": {
    "execution": {
     "iopub.execute_input": "2024-01-19T15:05:18.232308Z",
     "iopub.status.busy": "2024-01-19T15:05:18.230869Z",
     "iopub.status.idle": "2024-01-19T15:05:19.257748Z",
     "shell.execute_reply": "2024-01-19T15:05:19.257748Z",
     "shell.execute_reply.started": "2024-01-19T15:05:18.232308Z"
    },
    "tags": []
   },
   "outputs": [
    {
     "data": {
      "image/png": "[encoded data removed]",
      "text/plain": [
       "<Figure size 1584x648 with 1 Axes>"
      ]
     },
     "metadata": {
      "needs_background": "light"
     },
     "output_type": "display_data"
    }
   ],
   "source": [
    "plt.figure(figsize=(22,9))\n",
    "sns.boxplot(x=Data[\"Brand\"],y=Data[\"Rating\"])\n",
    "plt.title(\"Rating distribution of each Brand\")\n",
    "plt.show()"
   ]
  },
  {
   "cell_type": "code",
   "execution_count": 35,
   "id": "f1e4f79d-3af4-4dc7-828f-bbad9e145033",
   "metadata": {
    "execution": {
     "iopub.execute_input": "2024-01-19T15:05:19.257748Z",
     "iopub.status.busy": "2024-01-19T15:05:19.257748Z",
     "iopub.status.idle": "2024-01-19T15:05:20.131306Z",
     "shell.execute_reply": "2024-01-19T15:05:20.131306Z",
     "shell.execute_reply.started": "2024-01-19T15:05:19.257748Z"
    },
    "tags": []
   },
   "outputs": [
    {
     "data": {
      "image/png": "[encoded data removed]",
      "text/plain": [
       "<Figure size 1584x648 with 1 Axes>"
      ]
     },
     "metadata": {
      "needs_background": "light"
     },
     "output_type": "display_data"
    }
   ],
   "source": [
    "plt.figure(figsize=(22,9))\n",
    "sns.boxplot(x=Data[\"Brand\"],y=Data[\"Price\"])\n",
    "plt.title(\"Price distribution of each Brand\")\n",
    "plt.show()"
   ]
  },
  {
   "cell_type": "markdown",
   "id": "48e1b314-3b9e-4d6f-9501-7da590df81cb",
   "metadata": {},
   "source": [
    "<font color=\"green\">In this Section ,<font>\n",
    "    \n",
    "<font color=\"Blue\">From first graph: One can find that the more no.of laptop variations are selling by \"Lenovo\".<font>\n",
    "    \n",
    "<font color=\"Blue\">From second graph: Most brands have higher percentage of \"8 GB\" RAM Laptops.<font>\n",
    "    \n",
    "<font color=\"Blue\">From third graph: Most brands have higher percentage of \"512 GB\" storage Laptops.<font>\n",
    "    \n",
    "<font color=\"Blue\">From fourth graph: Most brands have higher percentage of \"15.6\" inches Laptops.<font>\n",
    "    \n",
    "<font color=\"Blue\">From  fifth,eighth graph: Mostly all brands have very few percentage of Finger Print,OLED featured (individually).<font>\n",
    "    \n",
    "<font color=\"Blue\">From sixth graph: Mostly all brands provides higher number Non-Gaming Laptops.<font>\n",
    "    \n",
    "<font color=\"Blue\">From  seventh graph: Mostly all brands provides \"SSD\" featured laptops.<font>\n",
    "    \n",
    "<font color=\"Blue\">From Ninth graph: Mostly all brands are rated around \"4\".<font>\n",
    "    \n",
    "<font color=\"Blue\">From Tenth graph:Mostly all brands Price distribution ranges (20,000 to 80,000) but samsung has very high price distribution compared with others   ranges from (50,000 to 1,50,000) (approx). <font>"
   ]
  },
  {
   "cell_type": "markdown",
   "id": "cc8b54d9-c95f-42d4-8b4f-80abb3c0b9a6",
   "metadata": {},
   "source": [
    "3. In the Final Part of Data Analysis, We can correlate the Remaining Fetures using Pair Wise plot."
   ]
  },
  {
   "cell_type": "code",
   "execution_count": 36,
   "id": "cf9b961b-8f6a-4312-a6a7-df8bc07970b5",
   "metadata": {
    "execution": {
     "iopub.execute_input": "2024-01-19T15:05:20.131306Z",
     "iopub.status.busy": "2024-01-19T15:05:20.131306Z",
     "iopub.status.idle": "2024-01-19T15:05:44.676610Z",
     "shell.execute_reply": "2024-01-19T15:05:44.676610Z",
     "shell.execute_reply.started": "2024-01-19T15:05:20.131306Z"
    },
    "tags": []
   },
   "outputs": [
    {
     "data": {
      "text/plain": [
       "<Figure size 360x360 with 0 Axes>"
      ]
     },
     "metadata": {},
     "output_type": "display_data"
    },
    {
     "data": {
      "image/png": "[encoded data removed]",
      "text/plain": [
       "<Figure size 1800x1800 with 110 Axes>"
      ]
     },
     "metadata": {
      "needs_background": "light"
     },
     "output_type": "display_data"
    }
   ],
   "source": [
    "plt.figure(figsize=(5,5))\n",
    "ax=sns.pairplot(Data,kind=\"hist\",diag_kind='kde')\n",
    "plt.show()"
   ]
  },
  {
   "cell_type": "markdown",
   "id": "520754fa-87bf-4ae3-9175-5575b29467ea",
   "metadata": {},
   "source": [
    "<font color='blue'>From off diagonal graphs in (Price vs Rating) graph one can observe that there is more density at the (price,Rating) value around (50,000,4) , in (Renewed vs Price) graph Renewed Laptops are priced less than 50,000 Rs , in  (Gaming vs Rating,Finger Print vs Rating,OLED vs Rating) graphs  Laptops which are featured with them have high rating distribution with minimum rating as around \"3\",in (Price vs SSD) graph the laptops which dont have SSD Price distributed less than 50,000 Rs,in (size vs Price) graph most laptops having 15.6 inches are in between 25,000 and 50,000Rs. <font>\n",
    "\n",
    "<font color=\"blue\">From the above graphs one can observe that there are more number of \"8 GB\" RAM ,\"512 GB\" Storage,\"15.6\" inches screen size, \"Non Gaming\",\"No Finger Print Featured\", \"No OLED Featured\", \"No SSD Featured\",\"New\",around \"4 points\" Rated,around \"50,000 Rs\" priced Laptops.<font>"
   ]
  },
  {
   "cell_type": "markdown",
   "id": "d2cfc761-0042-422b-ad27-73af96562dd2",
   "metadata": {},
   "source": [
    "# Data Preprocessing Part 2"
   ]
  },
  {
   "cell_type": "markdown",
   "id": "07237a68-eee7-4ddc-8c24-78094bd9297d",
   "metadata": {},
   "source": [
    "### By Label Encoding tronsforming the ordinal Categorical values of Processors into numerical values by considering there Thermal Design Power(TDP) ratings and dividing them into 3 classes."
   ]
  },
  {
   "cell_type": "markdown",
   "id": "ed72eecb-f3b7-4b60-8c14-0e834caa9cb6",
   "metadata": {},
   "source": [
    "#### <font color='green'>Processor Order By Considering their Power<font>\n",
    "    \n",
    "\n",
    "<font color=\"blue\">Lowest Power (Lowest Generation):<font>\n",
    "\n",
    "<font color='grey'>Celeron N4020 / Celeron N4500 / Celeron N4120<font>\n",
    "    \n",
    "<font color='grey'>Athlon Silver 3050U / Athlon A3050U / Athlon A3150U / Gemini Lake N4020<font>\n",
    "    \n",
    "<font color='grey'>Intel Pentium Silver N6000<font>\n",
    "    \n",
    "<font color='grey'>Intel Pentium Gold 7505<font>\n",
    "    \n",
    "<font color='grey'>Intel Alder Lake N100<font>\n",
    "    \n",
    "<font color='grey'>Athlon P-3045B<font>\n",
    "    \n",
    "<font color='grey'>Mediatek 8788<font>\n",
    "    \n",
    "<font color='grey'>M1 chip<font>\n",
    "    \n",
    "<font color=\"blue\">Mid Power (Mid-Generation):<font>\n",
    "    \n",
    "<font color='grey'>Intel Core i3 / Intel Core i3 11 / Intel Core i3 12<font>\n",
    "\n",
    "<font color='grey'>Ryzen 3 3250U / Ryzen 3 5300U / Ryzen 3-3250 / Ryzen 3-7320U / Ryzen R3-5300U<font>\n",
    "    \n",
    "<font color='grey'>Intel Core i5 / Intel Core i5 11 / Intel Core i5 12 / Intel Core i5 13 / Intel Core i5 14 / Intel Core i5 15 / i5 39 / Intel Core i5 16 / Intel Core i5 4 / Intel Core i5 6 <font>\n",
    "\n",
    "<font color='grey'>Ryzen 5 5500U / Ryzen 5 5625U / Ryzen 5-5500U / Ryzen 5-5625U / Ryzen 5 7535H / Ryzen 5-5500H / Ryzen 5 6600H <font>\n",
    "    \n",
    "<font color=\"blue\">Higher Power (Higher Generation):<font>\n",
    "    \n",
    "<font color='grey'>Intel Core i7 / Intel Core i7 11 / Intel Core i7 12 / Intel Core i7 13 / Intel Core i7 16 / Intel Core i7 13700 / i7-11800 / i7-1165 / i7-1360 / i7-1255U / i7-12650 / i7 14 / i7-13700 / i7 13 / i7-7500U <font>\n",
    "\n",
    "<font color='grey'>Ryzen 7 5700U / Ryzen 7-7840H / Ryzen 7 5800H / Ryzen 7 7730U / Ryzen 7 15<font>\n",
    "    \n",
    "<font color='grey'>i9-13900<font>"
   ]
  },
  {
   "cell_type": "code",
   "execution_count": 37,
   "id": "42055a93-3f12-462c-a415-780cb3dcf3e1",
   "metadata": {
    "execution": {
     "iopub.execute_input": "2024-01-19T15:05:44.676610Z",
     "iopub.status.busy": "2024-01-19T15:05:44.676610Z",
     "iopub.status.idle": "2024-01-19T15:05:44.692763Z",
     "shell.execute_reply": "2024-01-19T15:05:44.692763Z",
     "shell.execute_reply.started": "2024-01-19T15:05:44.676610Z"
    },
    "jupyter": {
     "source_hidden": true
    },
    "tags": []
   },
   "outputs": [],
   "source": [
    "Data_Processor=Data[\"Processor\"].unique()"
   ]
  },
  {
   "cell_type": "code",
   "execution_count": 38,
   "id": "fab9543e-7830-4f8f-b2b7-f64f9f4a141b",
   "metadata": {
    "execution": {
     "iopub.execute_input": "2024-01-19T15:05:44.692763Z",
     "iopub.status.busy": "2024-01-19T15:05:44.692763Z",
     "iopub.status.idle": "2024-01-19T15:05:44.709466Z",
     "shell.execute_reply": "2024-01-19T15:05:44.709466Z",
     "shell.execute_reply.started": "2024-01-19T15:05:44.692763Z"
    },
    "jupyter": {
     "source_hidden": true
    },
    "tags": []
   },
   "outputs": [],
   "source": [
    "Grp2=[]\n",
    "Grp1=[]\n",
    "Grp0=[]\n",
    "Grp=[Grp0,Grp1,Grp2]"
   ]
  },
  {
   "cell_type": "markdown",
   "id": "d2b2c7c4-5ea6-4ccc-83fd-0e1c7230cb09",
   "metadata": {},
   "source": [
    "Using the duplicate data to retain original one and droping the Finger Print, Gaming, OLED,SSD,Renewed columns because  due to their pure distinction distribution (0 or 1) the clustering is mainly happening on this basis but we dont want that type of clustering and it should be based on the usage of laptops (like we have classified in case of processors)."
   ]
  },
  {
   "cell_type": "code",
   "execution_count": 78,
   "id": "2b5ceca5-6883-4ea3-a119-7a3ea026643a",
   "metadata": {
    "execution": {
     "iopub.execute_input": "2024-01-19T15:09:35.066906Z",
     "iopub.status.busy": "2024-01-19T15:09:35.066906Z",
     "iopub.status.idle": "2024-01-19T15:09:35.107565Z",
     "shell.execute_reply": "2024-01-19T15:09:35.107565Z",
     "shell.execute_reply.started": "2024-01-19T15:09:35.066906Z"
    },
    "jupyter": {
     "source_hidden": true
    },
    "tags": []
   },
   "outputs": [
    {
     "data": {
      "text/html": [
       "<div>\n",
       "<style scoped>\n",
       "    .dataframe tbody tr th:only-of-type {\n",
       "        vertical-align: middle;\n",
       "    }\n",
       "\n",
       "    .dataframe tbody tr th {\n",
       "        vertical-align: top;\n",
       "    }\n",
       "\n",
       "    .dataframe thead th {\n",
       "        text-align: right;\n",
       "    }\n",
       "</style>\n",
       "<table border=\"1\" class=\"dataframe\">\n",
       "  <thead>\n",
       "    <tr style=\"text-align: right;\">\n",
       "      <th></th>\n",
       "      <th>Brand</th>\n",
       "      <th>ProductName</th>\n",
       "      <th>Processor</th>\n",
       "      <th>RAM</th>\n",
       "      <th>Storage</th>\n",
       "      <th>Size</th>\n",
       "      <th>Gaming</th>\n",
       "      <th>FingerPrint</th>\n",
       "      <th>OLED</th>\n",
       "      <th>SSD</th>\n",
       "      <th>Renewed</th>\n",
       "      <th>Rating</th>\n",
       "      <th>Price</th>\n",
       "    </tr>\n",
       "  </thead>\n",
       "  <tbody>\n",
       "    <tr>\n",
       "      <th>0</th>\n",
       "      <td>LENOVO</td>\n",
       "      <td>Lenovo ThinkPad</td>\n",
       "      <td>i5</td>\n",
       "      <td>8</td>\n",
       "      <td>256</td>\n",
       "      <td>14.0</td>\n",
       "      <td>0</td>\n",
       "      <td>0</td>\n",
       "      <td>0</td>\n",
       "      <td>1</td>\n",
       "      <td>1</td>\n",
       "      <td>4.000000</td>\n",
       "      <td>15849.0</td>\n",
       "    </tr>\n",
       "    <tr>\n",
       "      <th>1</th>\n",
       "      <td>ASUS</td>\n",
       "      <td>ASUS Vivobook</td>\n",
       "      <td>Celeron N4020</td>\n",
       "      <td>8</td>\n",
       "      <td>512</td>\n",
       "      <td>15.6</td>\n",
       "      <td>0</td>\n",
       "      <td>1</td>\n",
       "      <td>0</td>\n",
       "      <td>1</td>\n",
       "      <td>0</td>\n",
       "      <td>3.900000</td>\n",
       "      <td>26990.0</td>\n",
       "    </tr>\n",
       "    <tr>\n",
       "      <th>2</th>\n",
       "      <td>HP</td>\n",
       "      <td>HP Laptop</td>\n",
       "      <td>i3-1215U</td>\n",
       "      <td>8</td>\n",
       "      <td>512</td>\n",
       "      <td>15.6</td>\n",
       "      <td>0</td>\n",
       "      <td>0</td>\n",
       "      <td>0</td>\n",
       "      <td>1</td>\n",
       "      <td>0</td>\n",
       "      <td>4.100000</td>\n",
       "      <td>39699.0</td>\n",
       "    </tr>\n",
       "    <tr>\n",
       "      <th>3</th>\n",
       "      <td>HP</td>\n",
       "      <td>HP 255</td>\n",
       "      <td>Ryzen 3 3250U</td>\n",
       "      <td>8</td>\n",
       "      <td>512</td>\n",
       "      <td>15.6</td>\n",
       "      <td>0</td>\n",
       "      <td>0</td>\n",
       "      <td>0</td>\n",
       "      <td>1</td>\n",
       "      <td>0</td>\n",
       "      <td>4.100000</td>\n",
       "      <td>28850.0</td>\n",
       "    </tr>\n",
       "    <tr>\n",
       "      <th>4</th>\n",
       "      <td>LENOVO</td>\n",
       "      <td>Lenovo ThinkPad</td>\n",
       "      <td>i5</td>\n",
       "      <td>16</td>\n",
       "      <td>256</td>\n",
       "      <td>14.0</td>\n",
       "      <td>0</td>\n",
       "      <td>0</td>\n",
       "      <td>0</td>\n",
       "      <td>1</td>\n",
       "      <td>1</td>\n",
       "      <td>3.300000</td>\n",
       "      <td>14999.0</td>\n",
       "    </tr>\n",
       "    <tr>\n",
       "      <th>...</th>\n",
       "      <td>...</td>\n",
       "      <td>...</td>\n",
       "      <td>...</td>\n",
       "      <td>...</td>\n",
       "      <td>...</td>\n",
       "      <td>...</td>\n",
       "      <td>...</td>\n",
       "      <td>...</td>\n",
       "      <td>...</td>\n",
       "      <td>...</td>\n",
       "      <td>...</td>\n",
       "      <td>...</td>\n",
       "      <td>...</td>\n",
       "    </tr>\n",
       "    <tr>\n",
       "      <th>351</th>\n",
       "      <td>DELL</td>\n",
       "      <td>Dell G15</td>\n",
       "      <td>i5-12500</td>\n",
       "      <td>16</td>\n",
       "      <td>1024</td>\n",
       "      <td>15.6</td>\n",
       "      <td>1</td>\n",
       "      <td>0</td>\n",
       "      <td>0</td>\n",
       "      <td>1</td>\n",
       "      <td>0</td>\n",
       "      <td>4.100000</td>\n",
       "      <td>77490.0</td>\n",
       "    </tr>\n",
       "    <tr>\n",
       "      <th>352</th>\n",
       "      <td>DELL</td>\n",
       "      <td>Dell Inspiron</td>\n",
       "      <td>Ryzen 5-7520U</td>\n",
       "      <td>8</td>\n",
       "      <td>1024</td>\n",
       "      <td>15.6</td>\n",
       "      <td>0</td>\n",
       "      <td>0</td>\n",
       "      <td>0</td>\n",
       "      <td>1</td>\n",
       "      <td>0</td>\n",
       "      <td>4.200000</td>\n",
       "      <td>47990.0</td>\n",
       "    </tr>\n",
       "    <tr>\n",
       "      <th>353</th>\n",
       "      <td>FUJITSU</td>\n",
       "      <td>Fujitsu CH</td>\n",
       "      <td>Intel Core i5 13</td>\n",
       "      <td>16</td>\n",
       "      <td>512</td>\n",
       "      <td>13.3</td>\n",
       "      <td>0</td>\n",
       "      <td>1</td>\n",
       "      <td>0</td>\n",
       "      <td>1</td>\n",
       "      <td>0</td>\n",
       "      <td>4.500000</td>\n",
       "      <td>74990.0</td>\n",
       "    </tr>\n",
       "    <tr>\n",
       "      <th>354</th>\n",
       "      <td>ZEBRONICS</td>\n",
       "      <td>ZEBRONICS NBC</td>\n",
       "      <td>Intel Core i5 12</td>\n",
       "      <td>8</td>\n",
       "      <td>512</td>\n",
       "      <td>15.6</td>\n",
       "      <td>0</td>\n",
       "      <td>1</td>\n",
       "      <td>0</td>\n",
       "      <td>1</td>\n",
       "      <td>0</td>\n",
       "      <td>4.000000</td>\n",
       "      <td>37990.0</td>\n",
       "    </tr>\n",
       "    <tr>\n",
       "      <th>355</th>\n",
       "      <td>LENOVO</td>\n",
       "      <td>Lenovo IdeaPad</td>\n",
       "      <td>Ryzen 5 7520U</td>\n",
       "      <td>8</td>\n",
       "      <td>512</td>\n",
       "      <td>15.6</td>\n",
       "      <td>0</td>\n",
       "      <td>0</td>\n",
       "      <td>0</td>\n",
       "      <td>0</td>\n",
       "      <td>0</td>\n",
       "      <td>3.835312</td>\n",
       "      <td>39790.0</td>\n",
       "    </tr>\n",
       "  </tbody>\n",
       "</table>\n",
       "<p>355 rows × 13 columns</p>\n",
       "</div>"
      ],
      "text/plain": [
       "         Brand      ProductName         Processor  RAM  Storage  Size  Gaming  \\\n",
       "0       LENOVO  Lenovo ThinkPad               i5     8      256  14.0       0   \n",
       "1         ASUS    ASUS Vivobook     Celeron N4020    8      512  15.6       0   \n",
       "2           HP        HP Laptop          i3-1215U    8      512  15.6       0   \n",
       "3           HP           HP 255     Ryzen 3 3250U    8      512  15.6       0   \n",
       "4       LENOVO  Lenovo ThinkPad               i5    16      256  14.0       0   \n",
       "..         ...              ...               ...  ...      ...   ...     ...   \n",
       "351       DELL         Dell G15          i5-12500   16     1024  15.6       1   \n",
       "352       DELL    Dell Inspiron     Ryzen 5-7520U    8     1024  15.6       0   \n",
       "353    FUJITSU       Fujitsu CH  Intel Core i5 13   16      512  13.3       0   \n",
       "354  ZEBRONICS    ZEBRONICS NBC  Intel Core i5 12    8      512  15.6       0   \n",
       "355     LENOVO   Lenovo IdeaPad     Ryzen 5 7520U    8      512  15.6       0   \n",
       "\n",
       "     FingerPrint  OLED  SSD  Renewed    Rating    Price  \n",
       "0              0     0    1        1  4.000000  15849.0  \n",
       "1              1     0    1        0  3.900000  26990.0  \n",
       "2              0     0    1        0  4.100000  39699.0  \n",
       "3              0     0    1        0  4.100000  28850.0  \n",
       "4              0     0    1        1  3.300000  14999.0  \n",
       "..           ...   ...  ...      ...       ...      ...  \n",
       "351            0     0    1        0  4.100000  77490.0  \n",
       "352            0     0    1        0  4.200000  47990.0  \n",
       "353            1     0    1        0  4.500000  74990.0  \n",
       "354            1     0    1        0  4.000000  37990.0  \n",
       "355            0     0    0        0  3.835312  39790.0  \n",
       "\n",
       "[355 rows x 13 columns]"
      ]
     },
     "execution_count": 78,
     "metadata": {},
     "output_type": "execute_result"
    }
   ],
   "source": [
    "Data_dup=Data.iloc[:,:].copy()\n",
    "\n",
    "Data_dup"
   ]
  },
  {
   "cell_type": "code",
   "execution_count": 83,
   "id": "608417bd-d48d-4bb9-9bbe-d639f76c00ea",
   "metadata": {
    "execution": {
     "iopub.execute_input": "2024-01-19T15:10:53.695906Z",
     "iopub.status.busy": "2024-01-19T15:10:53.695906Z",
     "iopub.status.idle": "2024-01-19T15:10:53.716653Z",
     "shell.execute_reply": "2024-01-19T15:10:53.716653Z",
     "shell.execute_reply.started": "2024-01-19T15:10:53.695906Z"
    },
    "jupyter": {
     "source_hidden": true
    },
    "tags": []
   },
   "outputs": [],
   "source": [
    "for i in Data_Processor:\n",
    "    Grp2_pattern=re.compile(r'(i9|i7|ryzen\\s?\\w?7)',re.IGNORECASE)\n",
    "    Grp1_pattern=re.compile(r'(i(3|5)|ryzen\\s?\\w?(3|5))',re.IGNORECASE)\n",
    "    \n",
    "    Grp2_ = re.search(Grp2_pattern,i)\n",
    "    Grp1_ = re.search(Grp1_pattern,i)\n",
    "    \n",
    "    if Grp2_ :\n",
    "        Grp2.append(i)\n",
    "    elif Grp1_ :\n",
    "        Grp1.append(i)\n",
    "    else:\n",
    "        Grp0.append(i)"
   ]
  },
  {
   "cell_type": "code",
   "execution_count": 84,
   "id": "ae7880ff-17c2-4be2-ae8f-a3ab2edd13d5",
   "metadata": {
    "execution": {
     "iopub.execute_input": "2024-01-19T15:10:53.716653Z",
     "iopub.status.busy": "2024-01-19T15:10:53.716653Z",
     "iopub.status.idle": "2024-01-19T15:10:53.788283Z",
     "shell.execute_reply": "2024-01-19T15:10:53.785121Z",
     "shell.execute_reply.started": "2024-01-19T15:10:53.716653Z"
    },
    "jupyter": {
     "source_hidden": true
    },
    "tags": []
   },
   "outputs": [],
   "source": [
    "for index,i in enumerate(Grp):\n",
    "    for j in i:\n",
    "        Data_dup[\"Processor\"].replace(j,index+1,inplace=True)\n",
    "processor_division=Data_dup[\"Processor\"]\n",
    "Data[\"PType\"]=Data_dup[\"Processor\"]"
   ]
  },
  {
   "cell_type": "markdown",
   "id": "07799ac7-1f89-4d72-840d-14d354b04e62",
   "metadata": {},
   "source": [
    "# Dealing with Outliers"
   ]
  },
  {
   "cell_type": "code",
   "execution_count": 85,
   "id": "785f93b6-31e5-46e0-b42d-91165c4bfc39",
   "metadata": {
    "execution": {
     "iopub.execute_input": "2024-01-19T15:10:53.792072Z",
     "iopub.status.busy": "2024-01-19T15:10:53.792072Z",
     "iopub.status.idle": "2024-01-19T15:10:55.453653Z",
     "shell.execute_reply": "2024-01-19T15:10:55.453653Z",
     "shell.execute_reply.started": "2024-01-19T15:10:53.792072Z"
    },
    "tags": []
   },
   "outputs": [
    {
     "data": {
      "image/png": "[encoded data removed]",
      "text/plain": [
       "<Figure size 1440x576 with 6 Axes>"
      ]
     },
     "metadata": {
      "needs_background": "light"
     },
     "output_type": "display_data"
    }
   ],
   "source": [
    "fig,axes=plt.subplots(2,3,figsize=(20,8))\n",
    "Titles=[\"RAM\",\"Processor\",\"Storage\",\"Size\",\"Price\"]\n",
    "for i in range(5):\n",
    "    row= i//3\n",
    "    col= i%3\n",
    "    ax=sns.boxplot(x=Titles[i],data=Data_dup,ax=axes[row,col])\n",
    "plt.tight_layout()\n",
    "plt.show()"
   ]
  },
  {
   "cell_type": "code",
   "execution_count": 86,
   "id": "7bb0cea4-3f27-4fb3-8b81-2b682d2deb09",
   "metadata": {
    "execution": {
     "iopub.execute_input": "2024-01-19T15:10:55.453653Z",
     "iopub.status.busy": "2024-01-19T15:10:55.453653Z",
     "iopub.status.idle": "2024-01-19T15:10:55.485367Z",
     "shell.execute_reply": "2024-01-19T15:10:55.485367Z",
     "shell.execute_reply.started": "2024-01-19T15:10:55.453653Z"
    },
    "jupyter": {
     "source_hidden": true
    },
    "tags": []
   },
   "outputs": [],
   "source": [
    "Rq1=Data_dup.RAM.quantile(0.25)\n",
    "Rq3=Data_dup.RAM.quantile(0.75)\n",
    "Rmin=Rq1-1.5*(Rq3-Rq1)\n",
    "Rmax=Rq3+1.5*(Rq3-Rq1)\n",
    "Routlier_flag= (Data_dup[\"RAM\"]<Rmin)|(Data_dup[\"RAM\"]>Rmax)\n",
    "RNormal_flag= (Data_dup[\"RAM\"]>=Rmin)&(Data_dup[\"RAM\"]<=Rmax)"
   ]
  },
  {
   "cell_type": "code",
   "execution_count": 87,
   "id": "1e4f2a1e-3a83-410e-8a08-4060210a1628",
   "metadata": {
    "execution": {
     "iopub.execute_input": "2024-01-19T15:10:55.485367Z",
     "iopub.status.busy": "2024-01-19T15:10:55.485367Z",
     "iopub.status.idle": "2024-01-19T15:10:55.510377Z",
     "shell.execute_reply": "2024-01-19T15:10:55.509245Z",
     "shell.execute_reply.started": "2024-01-19T15:10:55.485367Z"
    },
    "jupyter": {
     "source_hidden": true
    },
    "tags": []
   },
   "outputs": [],
   "source": [
    "Sq1=Data_dup.Size.quantile(0.25)\n",
    "Sq3=Data_dup.Size.quantile(0.75)\n",
    "Smin=Sq1-1.5*(Sq3-Sq1)\n",
    "Smax=Sq3+1.5*(Sq3-Sq1)\n",
    "Soutlier_flag= (Data_dup[\"Size\"]<Smin)|(Data_dup[\"Size\"]>Smax)\n",
    "SNormal_flag= (Data_dup[\"Size\"]>=Smin)&(Data_dup[\"Size\"]<=Smax)"
   ]
  },
  {
   "cell_type": "code",
   "execution_count": 88,
   "id": "b9962807-066e-4477-8390-db768c7986c9",
   "metadata": {
    "execution": {
     "iopub.execute_input": "2024-01-19T15:10:55.510377Z",
     "iopub.status.busy": "2024-01-19T15:10:55.510377Z",
     "iopub.status.idle": "2024-01-19T15:10:55.526735Z",
     "shell.execute_reply": "2024-01-19T15:10:55.524899Z",
     "shell.execute_reply.started": "2024-01-19T15:10:55.510377Z"
    },
    "jupyter": {
     "source_hidden": true
    },
    "tags": []
   },
   "outputs": [],
   "source": [
    "Pq1=Data_dup.Price.quantile(0.25)\n",
    "Pq3=Data_dup.Price.quantile(0.75)\n",
    "Pmin=Pq1-1.5*(Pq3-Pq1)\n",
    "Pmax=Pq3+1.5*(Pq3-Pq1)\n",
    "Poutlier_flag= (Data_dup[\"Price\"]<Pmin)|(Data_dup[\"Price\"]>Pmax)\n",
    "PNormal_flag= (Data_dup[\"Price\"]>=Pmin)&(Data_dup[\"Price\"]<=Pmax)"
   ]
  },
  {
   "cell_type": "code",
   "execution_count": 89,
   "id": "a4a2a0ea-d77e-49a9-8ebe-8dacc66b6512",
   "metadata": {
    "execution": {
     "iopub.execute_input": "2024-01-19T15:10:55.527573Z",
     "iopub.status.busy": "2024-01-19T15:10:55.527573Z",
     "iopub.status.idle": "2024-01-19T15:10:55.540622Z",
     "shell.execute_reply": "2024-01-19T15:10:55.540622Z",
     "shell.execute_reply.started": "2024-01-19T15:10:55.527573Z"
    },
    "jupyter": {
     "source_hidden": true
    },
    "tags": []
   },
   "outputs": [],
   "source": [
    "outlier_data=Data_dup[Routlier_flag|Soutlier_flag|Poutlier_flag][:]\n",
    "Data_dup=Data_dup[RNormal_flag & SNormal_flag & PNormal_flag][:]"
   ]
  },
  {
   "cell_type": "code",
   "execution_count": 90,
   "id": "476c010b-2271-4bc4-aafe-4b4b3851d860",
   "metadata": {
    "execution": {
     "iopub.execute_input": "2024-01-19T15:10:55.543538Z",
     "iopub.status.busy": "2024-01-19T15:10:55.543538Z",
     "iopub.status.idle": "2024-01-19T15:10:55.556550Z",
     "shell.execute_reply": "2024-01-19T15:10:55.556550Z",
     "shell.execute_reply.started": "2024-01-19T15:10:55.543538Z"
    },
    "jupyter": {
     "source_hidden": true
    },
    "tags": []
   },
   "outputs": [],
   "source": [
    "\n",
    "x=Data_dup.drop(Data_dup.columns[[0,1,6,7,8,9,10,11]],axis=1)"
   ]
  },
  {
   "cell_type": "markdown",
   "id": "cb1bf2cb-3527-4b8a-a91d-bfbfe8df7270",
   "metadata": {},
   "source": [
    "Here we are not Excluding the outliers from the Processor and Storage Features because they are not continuous and even the outliers here are significant like when compared with mid generation processors there are very less Low and High generation processors but they matters when people want to buy in those sections and even in the case of storage feature there are more number of 512GB laptops than 256GB laptops."
   ]
  },
  {
   "cell_type": "markdown",
   "id": "e2b26247-32e3-4789-8e22-715dfb4689a8",
   "metadata": {},
   "source": [
    "# Creating the Model"
   ]
  },
  {
   "cell_type": "code",
   "execution_count": 91,
   "id": "c17433b2-7909-4eef-9de5-8b1cae248754",
   "metadata": {
    "execution": {
     "iopub.execute_input": "2024-01-19T15:10:55.561083Z",
     "iopub.status.busy": "2024-01-19T15:10:55.561083Z",
     "iopub.status.idle": "2024-01-19T15:10:55.573299Z",
     "shell.execute_reply": "2024-01-19T15:10:55.572590Z",
     "shell.execute_reply.started": "2024-01-19T15:10:55.561083Z"
    },
    "tags": []
   },
   "outputs": [],
   "source": [
    "from sklearn.preprocessing import StandardScaler\n",
    "import scipy.cluster.hierarchy as shc\n",
    "from sklearn.cluster import AgglomerativeClustering,KMeans\n",
    "from sklearn.decomposition import PCA"
   ]
  },
  {
   "cell_type": "markdown",
   "id": "b862d79e-27f7-41d5-b7f0-515a3e03ffa2",
   "metadata": {},
   "source": [
    "### Scaling the data such that their mean is 0 and their standard deviation is at max 1"
   ]
  },
  {
   "cell_type": "code",
   "execution_count": 92,
   "id": "274daf23-db8a-4de9-891c-30e502462b24",
   "metadata": {
    "execution": {
     "iopub.execute_input": "2024-01-19T15:10:55.576870Z",
     "iopub.status.busy": "2024-01-19T15:10:55.576870Z",
     "iopub.status.idle": "2024-01-19T15:10:55.588378Z",
     "shell.execute_reply": "2024-01-19T15:10:55.588378Z",
     "shell.execute_reply.started": "2024-01-19T15:10:55.576870Z"
    },
    "jupyter": {
     "source_hidden": true
    },
    "tags": []
   },
   "outputs": [],
   "source": [
    "scale=StandardScaler()\n",
    "\n",
    "\n",
    "x=np.array(x)\n",
    "\n",
    "scale.fit(x)\n",
    "\n",
    "x=scale.transform(x)"
   ]
  },
  {
   "cell_type": "markdown",
   "id": "6462bc0a-f0a6-42ff-9402-c14232fcc99c",
   "metadata": {},
   "source": [
    "Plotting the Bent elbow,Dendogram to check for the number of clusters."
   ]
  },
  {
   "cell_type": "markdown",
   "id": "56f4f522-dae8-4538-b18f-f51d88143b8f",
   "metadata": {},
   "source": [
    "1. Bent Elbow curve"
   ]
  },
  {
   "cell_type": "code",
   "execution_count": 93,
   "id": "fae7b45e-62c3-4867-a135-a86d3792263b",
   "metadata": {
    "execution": {
     "iopub.execute_input": "2024-01-19T15:10:55.592496Z",
     "iopub.status.busy": "2024-01-19T15:10:55.588378Z",
     "iopub.status.idle": "2024-01-19T15:10:55.739985Z",
     "shell.execute_reply": "2024-01-19T15:10:55.739985Z",
     "shell.execute_reply.started": "2024-01-19T15:10:55.592496Z"
    },
    "jupyter": {
     "source_hidden": true
    },
    "tags": []
   },
   "outputs": [],
   "source": [
    "error=[]\n",
    "for i in range(1,18):\n",
    "        kmeans=KMeans(n_clusters=i,n_init=\"auto\")\n",
    "        kmeans.fit(x)\n",
    "        error.append(kmeans.inertia_)\n"
   ]
  },
  {
   "cell_type": "code",
   "execution_count": 94,
   "id": "36c49c67-0b39-4739-8567-04b500c033d4",
   "metadata": {
    "execution": {
     "iopub.execute_input": "2024-01-19T15:10:55.743104Z",
     "iopub.status.busy": "2024-01-19T15:10:55.743104Z",
     "iopub.status.idle": "2024-01-19T15:10:56.019979Z",
     "shell.execute_reply": "2024-01-19T15:10:56.019213Z",
     "shell.execute_reply.started": "2024-01-19T15:10:55.743104Z"
    },
    "jupyter": {
     "source_hidden": true
    },
    "tags": []
   },
   "outputs": [
    {
     "data": {
      "image/png": "[encoded data removed]",
      "text/plain": [
       "<Figure size 432x288 with 1 Axes>"
      ]
     },
     "metadata": {
      "needs_background": "light"
     },
     "output_type": "display_data"
    }
   ],
   "source": [
    "plt.plot(range(1,18),error)\n",
    "plt.grid()\n",
    "plt.show()"
   ]
  },
  {
   "cell_type": "markdown",
   "id": "f1830cdb-a935-4d1c-9fa0-2e4faa150248",
   "metadata": {},
   "source": [
    " Here, it is unclear that where the elbow is, we cant find the number of clusters from this."
   ]
  },
  {
   "cell_type": "markdown",
   "id": "9f3bcb74-cee8-43e9-a881-d01688031325",
   "metadata": {
    "execution": {
     "iopub.execute_input": "2024-01-12T11:35:56.258814Z",
     "iopub.status.busy": "2024-01-12T11:35:56.258814Z",
     "iopub.status.idle": "2024-01-12T11:35:56.264036Z",
     "shell.execute_reply": "2024-01-12T11:35:56.263027Z",
     "shell.execute_reply.started": "2024-01-12T11:35:56.258814Z"
    }
   },
   "source": [
    "2. Dendogram"
   ]
  },
  {
   "cell_type": "code",
   "execution_count": 129,
   "id": "9202d780-c45e-4956-96c9-5104bc4782e8",
   "metadata": {
    "execution": {
     "iopub.execute_input": "2024-01-19T16:24:51.105443Z",
     "iopub.status.busy": "2024-01-19T16:24:51.105443Z",
     "iopub.status.idle": "2024-01-19T16:25:16.453427Z",
     "shell.execute_reply": "2024-01-19T16:25:16.452748Z",
     "shell.execute_reply.started": "2024-01-19T16:24:51.105443Z"
    },
    "tags": []
   },
   "outputs": [
    {
     "data": {
      "image/png": "[encoded data removed]",
      "text/plain": [
       "<Figure size 720x648 with 1 Axes>"
      ]
     },
     "metadata": {
      "needs_background": "light"
     },
     "output_type": "display_data"
    }
   ],
   "source": [
    "plt.figure(figsize=(10,9))\n",
    "plt.title(\"Dendogram\")\n",
    "dend=shc.dendrogram(shc.linkage(x,method=\"ward\"))"
   ]
  },
  {
   "cell_type": "markdown",
   "id": "333bc203-0dfd-4290-af81-e3e27d2f4ec5",
   "metadata": {},
   "source": [
    "Here, from the dendogram plot we can say that the inter clustering is either 3 or 4."
   ]
  },
  {
   "cell_type": "markdown",
   "id": "2014c253-696f-4f71-8165-62f4e4f60247",
   "metadata": {},
   "source": [
    "### Now we are considering Heirarchial Clustering over kmeans clustering beacause of its iterartive nature i.e, when we given a new data it reforms the clustering according to new data so, that we can have more similar cluster than we get from basic kmeans clustering which forms from the basis of centroid.(due to small size data the iteration of all the data is not a problem for now)"
   ]
  },
  {
   "cell_type": "code",
   "execution_count": 130,
   "id": "2baa6dcc-1037-4cfa-98a9-224190fca6bb",
   "metadata": {
    "execution": {
     "iopub.execute_input": "2024-01-19T16:32:14.743346Z",
     "iopub.status.busy": "2024-01-19T16:32:14.742779Z",
     "iopub.status.idle": "2024-01-19T16:32:14.760321Z",
     "shell.execute_reply": "2024-01-19T16:32:14.759317Z",
     "shell.execute_reply.started": "2024-01-19T16:32:14.743346Z"
    },
    "tags": []
   },
   "outputs": [],
   "source": [
    "N_cluster=3\n",
    "Model=AgglomerativeClustering(n_clusters=N_cluster)\n",
    "\n",
    "Model.fit(x)\n",
    " \n",
    "Data_dup[\"Cluster\"]= Model.labels_"
   ]
  },
  {
   "cell_type": "markdown",
   "id": "dac88895-b538-4599-a95a-b2022ae6050b",
   "metadata": {},
   "source": [
    "### According to research the size of a good cluster should be between 5% and 35% of total size."
   ]
  },
  {
   "cell_type": "code",
   "execution_count": 131,
   "id": "342726fb-9c0f-431f-bb41-d508a142ebfc",
   "metadata": {
    "execution": {
     "iopub.execute_input": "2024-01-19T16:32:15.724006Z",
     "iopub.status.busy": "2024-01-19T16:32:15.724006Z",
     "iopub.status.idle": "2024-01-19T16:32:15.743992Z",
     "shell.execute_reply": "2024-01-19T16:32:15.742990Z",
     "shell.execute_reply.started": "2024-01-19T16:32:15.724006Z"
    },
    "jupyter": {
     "source_hidden": true
    },
    "tags": []
   },
   "outputs": [
    {
     "name": "stdout",
     "output_type": "stream",
     "text": [
      "Cluster0 population:29.86\n",
      "Cluster2 population:32.96\n",
      "Cluster1 population:31.83\n"
     ]
    }
   ],
   "source": [
    "s=0\n",
    "for i in Data_dup[\"Cluster\"].unique():\n",
    "    s=Data_dup[Data_dup[\"Cluster\"]==i][\"Cluster\"].count()\n",
    "    percent=s*100/355\n",
    "    print(f\"Cluster{i} population:{percent:0.2f}\")"
   ]
  },
  {
   "cell_type": "markdown",
   "id": "28ef853e-68ab-4c9f-bc7f-d3414780a951",
   "metadata": {},
   "source": [
    "### Principal Component Analysis (PCA)"
   ]
  },
  {
   "cell_type": "code",
   "execution_count": 123,
   "id": "f15a8b98-8f40-493e-956d-ae4577639411",
   "metadata": {
    "execution": {
     "iopub.execute_input": "2024-01-19T16:20:43.723064Z",
     "iopub.status.busy": "2024-01-19T16:20:43.721834Z",
     "iopub.status.idle": "2024-01-19T16:20:43.741813Z",
     "shell.execute_reply": "2024-01-19T16:20:43.741813Z",
     "shell.execute_reply.started": "2024-01-19T16:20:43.723064Z"
    },
    "jupyter": {
     "source_hidden": true
    },
    "tags": []
   },
   "outputs": [],
   "source": [
    "pca=PCA()\n",
    "\n",
    "pca.fit(x)\n",
    "\n",
    "pca_data=pca.transform(x)"
   ]
  },
  {
   "cell_type": "markdown",
   "id": "063bf06f-b504-46d9-899a-790c5a11ebf5",
   "metadata": {},
   "source": [
    "percentage of each Principal component in the linear vector"
   ]
  },
  {
   "cell_type": "code",
   "execution_count": 124,
   "id": "f4df5d60-f785-4ea6-8cc3-d2486b3ed7be",
   "metadata": {
    "execution": {
     "iopub.execute_input": "2024-01-19T16:20:44.822225Z",
     "iopub.status.busy": "2024-01-19T16:20:44.822225Z",
     "iopub.status.idle": "2024-01-19T16:20:44.830700Z",
     "shell.execute_reply": "2024-01-19T16:20:44.830700Z",
     "shell.execute_reply.started": "2024-01-19T16:20:44.822225Z"
    },
    "jupyter": {
     "source_hidden": true
    },
    "tags": []
   },
   "outputs": [],
   "source": [
    "per_var=np.round(pca.explained_variance_ratio_*100,decimals=1)\n",
    "labels=['PC'+ str(i) for i in range(1,len(per_var)+1)]\n"
   ]
  },
  {
   "cell_type": "markdown",
   "id": "fe6ecf5f-e974-4f12-b145-13a8ea946992",
   "metadata": {},
   "source": [
    "#### Scree Plot"
   ]
  },
  {
   "cell_type": "code",
   "execution_count": 125,
   "id": "dac36421-095a-4052-ac9e-da0baaff8f7c",
   "metadata": {
    "execution": {
     "iopub.execute_input": "2024-01-19T16:20:45.628696Z",
     "iopub.status.busy": "2024-01-19T16:20:45.628543Z",
     "iopub.status.idle": "2024-01-19T16:20:45.844465Z",
     "shell.execute_reply": "2024-01-19T16:20:45.843750Z",
     "shell.execute_reply.started": "2024-01-19T16:20:45.628696Z"
    },
    "jupyter": {
     "source_hidden": true
    },
    "tags": []
   },
   "outputs": [
    {
     "data": {
      "image/png": "[encoded data removed]",
      "text/plain": [
       "<Figure size 432x288 with 1 Axes>"
      ]
     },
     "metadata": {
      "needs_background": "light"
     },
     "output_type": "display_data"
    }
   ],
   "source": [
    "plt.bar(x=range(1,len(per_var)+1),height=per_var, tick_label=labels)\n",
    "plt.title(\"Scree Plot\")\n",
    "plt.xlabel(\"Principal Component\")\n",
    "plt.ylabel(\"Percentage\")\n",
    "plt.show()"
   ]
  },
  {
   "cell_type": "markdown",
   "id": "8906594f-8b46-4e81-ac49-f0d211009cc2",
   "metadata": {},
   "source": [
    "Here, from the scree plot we can see that the \"PC1\" have percentage and mainly dependent variable in the cluster and next to that is \"PC2\". So, by using both the PC1 and PC2 we can visualize the clustering. "
   ]
  },
  {
   "cell_type": "markdown",
   "id": "a9655315-12d2-4e5e-be4f-67dffab66f2f",
   "metadata": {},
   "source": [
    "#### Visualizing the Clusters in 2D Scatter Plot using the PCA"
   ]
  },
  {
   "cell_type": "code",
   "execution_count": 126,
   "id": "4b021e83-c7de-47af-b4dc-e2391657e1f7",
   "metadata": {
    "execution": {
     "iopub.execute_input": "2024-01-19T16:20:47.099968Z",
     "iopub.status.busy": "2024-01-19T16:20:47.099509Z",
     "iopub.status.idle": "2024-01-19T16:20:47.107546Z",
     "shell.execute_reply": "2024-01-19T16:20:47.107546Z",
     "shell.execute_reply.started": "2024-01-19T16:20:47.099968Z"
    },
    "jupyter": {
     "source_hidden": true
    },
    "tags": []
   },
   "outputs": [],
   "source": [
    "pca_df=pd.DataFrame(pca_data,columns=labels)"
   ]
  },
  {
   "cell_type": "code",
   "execution_count": 132,
   "id": "51ef17a9-f2ef-4828-9f61-2c7459024c19",
   "metadata": {
    "execution": {
     "iopub.execute_input": "2024-01-19T16:39:22.457482Z",
     "iopub.status.busy": "2024-01-19T16:39:22.457482Z",
     "iopub.status.idle": "2024-01-19T16:39:22.599814Z",
     "shell.execute_reply": "2024-01-19T16:39:22.599814Z",
     "shell.execute_reply.started": "2024-01-19T16:39:22.457482Z"
    },
    "tags": []
   },
   "outputs": [
    {
     "data": {
      "image/png": "[encoded data removed]",
      "text/plain": [
       "<Figure size 720x648 with 1 Axes>"
      ]
     },
     "metadata": {
      "needs_background": "light"
     },
     "output_type": "display_data"
    }
   ],
   "source": [
    "plt.figure(figsize=(10,9))\n",
    "plt.scatter(pca_df[\"PC1\"],pca_df[\"PC2\"],c=Data_dup[\"Cluster\"])\n",
    "plt.xlabel('PC1', fontweight ='bold') \n",
    "plt.ylabel('PC2', fontweight ='bold') \n",
    "plt.title(\"Clustering of Laptops\")\n",
    "plt.show()"
   ]
  },
  {
   "cell_type": "markdown",
   "id": "4a6c316a-82d2-472f-94e3-6533f69f2089",
   "metadata": {},
   "source": [
    "### How good is the clustering?"
   ]
  },
  {
   "cell_type": "code",
   "execution_count": 128,
   "id": "f0fdfb3e-8259-4302-8041-63a45b09670b",
   "metadata": {
    "execution": {
     "iopub.execute_input": "2024-01-19T16:20:48.464216Z",
     "iopub.status.busy": "2024-01-19T16:20:48.463152Z",
     "iopub.status.idle": "2024-01-19T16:20:48.482349Z",
     "shell.execute_reply": "2024-01-19T16:20:48.481875Z",
     "shell.execute_reply.started": "2024-01-19T16:20:48.464216Z"
    },
    "tags": []
   },
   "outputs": [
    {
     "name": "stdout",
     "output_type": "stream",
     "text": [
      "silhouette_score: 0.3554319240222683\n",
      "calinski_harabasz_score: 135.13784192329877\n"
     ]
    }
   ],
   "source": [
    "from sklearn.metrics import silhouette_score, calinski_harabasz_score\n",
    "\n",
    "print(\"silhouette_score:\",silhouette_score(x,Model.labels_))\n",
    "\n",
    "print(\"calinski_harabasz_score:\",calinski_harabasz_score(x,Model.labels_))"
   ]
  },
  {
   "cell_type": "markdown",
   "id": "cb90e8df-8102-40fb-b214-1309cc3143dc",
   "metadata": {},
   "source": [
    "Both the Silhouette Score and CH Score should be maximum for the best clustering which measures data point similarity with the points of the same cluster and how different from the points of the other clusters.(For the Silhouette Score 1 is the maximum score but no limit for CH Score)."
   ]
  },
  {
   "cell_type": "markdown",
   "id": "33a0a70e-f6d7-483a-abf9-108118ac8903",
   "metadata": {},
   "source": [
    "# Fitting the new data to the Agglomerative Model."
   ]
  },
  {
   "cell_type": "markdown",
   "id": "1d053a4a-f515-4112-8f66-191c3075d8a1",
   "metadata": {},
   "source": [
    "\n",
    "Adding New data to the existing data for the prediction."
   ]
  },
  {
   "cell_type": "code",
   "execution_count": 139,
   "id": "d67b7235-4998-467b-8667-a526fa8acc46",
   "metadata": {
    "execution": {
     "iopub.execute_input": "2024-01-19T16:53:16.057580Z",
     "iopub.status.busy": "2024-01-19T16:53:16.057580Z",
     "iopub.status.idle": "2024-01-19T16:53:16.061774Z",
     "shell.execute_reply": "2024-01-19T16:53:16.061653Z",
     "shell.execute_reply.started": "2024-01-19T16:53:16.057580Z"
    },
    "tags": []
   },
   "outputs": [],
   "source": [
    "Processor= 3\n",
    "RAM= 16\n",
    "Storage= 512\n",
    "Size= 15.6\n",
    "Price= 80000"
   ]
  },
  {
   "cell_type": "code",
   "execution_count": 140,
   "id": "35c9efb3-2014-45f4-bf5f-bf6dbdb647ec",
   "metadata": {
    "execution": {
     "iopub.execute_input": "2024-01-19T16:53:16.481392Z",
     "iopub.status.busy": "2024-01-19T16:53:16.480868Z",
     "iopub.status.idle": "2024-01-19T16:53:16.495516Z",
     "shell.execute_reply": "2024-01-19T16:53:16.495516Z",
     "shell.execute_reply.started": "2024-01-19T16:53:16.481392Z"
    },
    "jupyter": {
     "source_hidden": true
    },
    "tags": []
   },
   "outputs": [],
   "source": [
    "New_data= list(x) \n",
    "\n",
    "for i in range(1):\n",
    "    New_data.append(scale.transform([[Processor,RAM,Storage,Size,Price]])[0])"
   ]
  },
  {
   "cell_type": "code",
   "execution_count": 141,
   "id": "7a225754-2a2c-430a-a041-daadce6dd367",
   "metadata": {
    "execution": {
     "iopub.execute_input": "2024-01-19T16:53:16.933099Z",
     "iopub.status.busy": "2024-01-19T16:53:16.933099Z",
     "iopub.status.idle": "2024-01-19T16:53:16.945611Z",
     "shell.execute_reply": "2024-01-19T16:53:16.945611Z",
     "shell.execute_reply.started": "2024-01-19T16:53:16.933099Z"
    },
    "jupyter": {
     "source_hidden": true
    },
    "tags": []
   },
   "outputs": [],
   "source": [
    "new_labels=Model.fit_predict(New_data)"
   ]
  },
  {
   "cell_type": "markdown",
   "id": "c7c6f5bd-48ff-404d-ae71-e28ae0f2902f",
   "metadata": {},
   "source": [
    "The New Prediction Cluster Value."
   ]
  },
  {
   "cell_type": "code",
   "execution_count": 142,
   "id": "0700136c-1a4d-4924-8afc-ae31a58d86db",
   "metadata": {
    "execution": {
     "iopub.execute_input": "2024-01-19T16:53:17.848307Z",
     "iopub.status.busy": "2024-01-19T16:53:17.848307Z",
     "iopub.status.idle": "2024-01-19T16:53:17.858246Z",
     "shell.execute_reply": "2024-01-19T16:53:17.857346Z",
     "shell.execute_reply.started": "2024-01-19T16:53:17.848307Z"
    },
    "jupyter": {
     "source_hidden": true
    },
    "tags": []
   },
   "outputs": [],
   "source": [
    "New_Prediction_Cluster_Number=new_labels[len(x):]+1"
   ]
  },
  {
   "cell_type": "markdown",
   "id": "b9c83447-b0c1-4892-ae37-4c47cad69d9e",
   "metadata": {},
   "source": [
    "Updating the Previous Cluster Values"
   ]
  },
  {
   "cell_type": "code",
   "execution_count": 143,
   "id": "1a967e35-9a5b-4b7d-be00-0ea8c2c906a7",
   "metadata": {
    "execution": {
     "iopub.execute_input": "2024-01-19T16:53:19.132596Z",
     "iopub.status.busy": "2024-01-19T16:53:19.132596Z",
     "iopub.status.idle": "2024-01-19T16:53:19.150564Z",
     "shell.execute_reply": "2024-01-19T16:53:19.149565Z",
     "shell.execute_reply.started": "2024-01-19T16:53:19.132596Z"
    },
    "jupyter": {
     "source_hidden": true
    },
    "tags": []
   },
   "outputs": [],
   "source": [
    "Data_dup[\"Cluster\"]=new_labels[:len(x)]+1"
   ]
  },
  {
   "cell_type": "code",
   "execution_count": 144,
   "id": "68e4c167-1e4e-4a28-983e-add293c88956",
   "metadata": {
    "execution": {
     "iopub.execute_input": "2024-01-19T16:53:19.435632Z",
     "iopub.status.busy": "2024-01-19T16:53:19.435076Z",
     "iopub.status.idle": "2024-01-19T16:53:19.447726Z",
     "shell.execute_reply": "2024-01-19T16:53:19.446573Z",
     "shell.execute_reply.started": "2024-01-19T16:53:19.435632Z"
    },
    "jupyter": {
     "source_hidden": true
    },
    "tags": []
   },
   "outputs": [],
   "source": [
    "Cluster_Number=New_Prediction_Cluster_Number[0]"
   ]
  },
  {
   "cell_type": "markdown",
   "id": "5cef5c87-64c6-4f8d-93ed-034e73b44454",
   "metadata": {},
   "source": [
    "### Merging the Outlier data with Normalized Data (i.e; Data_dup) after assaigning it as cluster number \"4\" and then updating the all data with their cluster numbers in main dataframe (i.e;Data)."
   ]
  },
  {
   "cell_type": "code",
   "execution_count": 145,
   "id": "da792fb9-ec7a-4cd6-9ca9-bc0015ae6210",
   "metadata": {
    "execution": {
     "iopub.execute_input": "2024-01-19T16:53:20.102778Z",
     "iopub.status.busy": "2024-01-19T16:53:20.102383Z",
     "iopub.status.idle": "2024-01-19T16:53:20.113506Z",
     "shell.execute_reply": "2024-01-19T16:53:20.113333Z",
     "shell.execute_reply.started": "2024-01-19T16:53:20.102383Z"
    },
    "jupyter": {
     "source_hidden": true
    },
    "tags": []
   },
   "outputs": [],
   "source": [
    "outlier_data[\"Cluster\"]=N_cluster+1\n",
    "\n",
    "Merged=pd.concat([Data_dup,outlier_data])\n",
    "\n",
    "Data[\"Cluster\"]=Merged[\"Cluster\"]"
   ]
  },
  {
   "cell_type": "code",
   "execution_count": 146,
   "id": "6ece158b-47f2-48d3-bf3d-b17bf42b2b89",
   "metadata": {
    "execution": {
     "iopub.execute_input": "2024-01-19T16:53:20.446877Z",
     "iopub.status.busy": "2024-01-19T16:53:20.446877Z",
     "iopub.status.idle": "2024-01-19T16:53:20.470270Z",
     "shell.execute_reply": "2024-01-19T16:53:20.470270Z",
     "shell.execute_reply.started": "2024-01-19T16:53:20.446877Z"
    },
    "tags": []
   },
   "outputs": [
    {
     "data": {
      "text/html": [
       "<div>\n",
       "<style scoped>\n",
       "    .dataframe tbody tr th:only-of-type {\n",
       "        vertical-align: middle;\n",
       "    }\n",
       "\n",
       "    .dataframe tbody tr th {\n",
       "        vertical-align: top;\n",
       "    }\n",
       "\n",
       "    .dataframe thead th {\n",
       "        text-align: right;\n",
       "    }\n",
       "</style>\n",
       "<table border=\"1\" class=\"dataframe\">\n",
       "  <thead>\n",
       "    <tr style=\"text-align: right;\">\n",
       "      <th></th>\n",
       "      <th>Brand</th>\n",
       "      <th>ProductName</th>\n",
       "      <th>Processor</th>\n",
       "      <th>RAM</th>\n",
       "      <th>Storage</th>\n",
       "      <th>Size</th>\n",
       "      <th>Gaming</th>\n",
       "      <th>FingerPrint</th>\n",
       "      <th>OLED</th>\n",
       "      <th>SSD</th>\n",
       "      <th>Renewed</th>\n",
       "      <th>Rating</th>\n",
       "      <th>Price</th>\n",
       "      <th>PType</th>\n",
       "      <th>Cluster</th>\n",
       "    </tr>\n",
       "  </thead>\n",
       "  <tbody>\n",
       "    <tr>\n",
       "      <th>4</th>\n",
       "      <td>LENOVO</td>\n",
       "      <td>Lenovo ThinkPad</td>\n",
       "      <td>i5</td>\n",
       "      <td>16</td>\n",
       "      <td>256</td>\n",
       "      <td>14.000</td>\n",
       "      <td>0</td>\n",
       "      <td>0</td>\n",
       "      <td>0</td>\n",
       "      <td>1</td>\n",
       "      <td>1</td>\n",
       "      <td>3.3</td>\n",
       "      <td>14999.0</td>\n",
       "      <td>2</td>\n",
       "      <td>2</td>\n",
       "    </tr>\n",
       "    <tr>\n",
       "      <th>9</th>\n",
       "      <td>LENOVO</td>\n",
       "      <td>Lenovo Ideapad</td>\n",
       "      <td>Ryzen 5 7520U</td>\n",
       "      <td>16</td>\n",
       "      <td>512</td>\n",
       "      <td>15.600</td>\n",
       "      <td>0</td>\n",
       "      <td>0</td>\n",
       "      <td>0</td>\n",
       "      <td>1</td>\n",
       "      <td>0</td>\n",
       "      <td>3.9</td>\n",
       "      <td>43990.0</td>\n",
       "      <td>2</td>\n",
       "      <td>2</td>\n",
       "    </tr>\n",
       "    <tr>\n",
       "      <th>15</th>\n",
       "      <td>MSI</td>\n",
       "      <td>MSI Modern</td>\n",
       "      <td>i5-1155</td>\n",
       "      <td>16</td>\n",
       "      <td>512</td>\n",
       "      <td>15.748</td>\n",
       "      <td>0</td>\n",
       "      <td>0</td>\n",
       "      <td>0</td>\n",
       "      <td>1</td>\n",
       "      <td>0</td>\n",
       "      <td>3.8</td>\n",
       "      <td>39990.0</td>\n",
       "      <td>2</td>\n",
       "      <td>2</td>\n",
       "    </tr>\n",
       "    <tr>\n",
       "      <th>19</th>\n",
       "      <td>LENOVO</td>\n",
       "      <td>Lenovo IdeaPad</td>\n",
       "      <td>Intel Core i5 12</td>\n",
       "      <td>16</td>\n",
       "      <td>512</td>\n",
       "      <td>15.600</td>\n",
       "      <td>0</td>\n",
       "      <td>0</td>\n",
       "      <td>0</td>\n",
       "      <td>1</td>\n",
       "      <td>0</td>\n",
       "      <td>4.0</td>\n",
       "      <td>55490.0</td>\n",
       "      <td>2</td>\n",
       "      <td>2</td>\n",
       "    </tr>\n",
       "    <tr>\n",
       "      <th>26</th>\n",
       "      <td>ACER</td>\n",
       "      <td>Acer Aspire</td>\n",
       "      <td>i3</td>\n",
       "      <td>16</td>\n",
       "      <td>512</td>\n",
       "      <td>15.600</td>\n",
       "      <td>0</td>\n",
       "      <td>1</td>\n",
       "      <td>0</td>\n",
       "      <td>1</td>\n",
       "      <td>0</td>\n",
       "      <td>5.0</td>\n",
       "      <td>39990.0</td>\n",
       "      <td>2</td>\n",
       "      <td>2</td>\n",
       "    </tr>\n",
       "    <tr>\n",
       "      <th>...</th>\n",
       "      <td>...</td>\n",
       "      <td>...</td>\n",
       "      <td>...</td>\n",
       "      <td>...</td>\n",
       "      <td>...</td>\n",
       "      <td>...</td>\n",
       "      <td>...</td>\n",
       "      <td>...</td>\n",
       "      <td>...</td>\n",
       "      <td>...</td>\n",
       "      <td>...</td>\n",
       "      <td>...</td>\n",
       "      <td>...</td>\n",
       "      <td>...</td>\n",
       "      <td>...</td>\n",
       "    </tr>\n",
       "    <tr>\n",
       "      <th>337</th>\n",
       "      <td>ZEBRONICS</td>\n",
       "      <td>ZEBRONICS NBC</td>\n",
       "      <td>Intel Core i7 12</td>\n",
       "      <td>16</td>\n",
       "      <td>1024</td>\n",
       "      <td>15.600</td>\n",
       "      <td>0</td>\n",
       "      <td>1</td>\n",
       "      <td>0</td>\n",
       "      <td>1</td>\n",
       "      <td>0</td>\n",
       "      <td>4.0</td>\n",
       "      <td>52990.0</td>\n",
       "      <td>3</td>\n",
       "      <td>2</td>\n",
       "    </tr>\n",
       "    <tr>\n",
       "      <th>340</th>\n",
       "      <td>MSI</td>\n",
       "      <td>MSI Bravo</td>\n",
       "      <td>Ryzen 5 7535H</td>\n",
       "      <td>16</td>\n",
       "      <td>512</td>\n",
       "      <td>15.748</td>\n",
       "      <td>1</td>\n",
       "      <td>0</td>\n",
       "      <td>0</td>\n",
       "      <td>1</td>\n",
       "      <td>0</td>\n",
       "      <td>3.3</td>\n",
       "      <td>57990.0</td>\n",
       "      <td>2</td>\n",
       "      <td>2</td>\n",
       "    </tr>\n",
       "    <tr>\n",
       "      <th>345</th>\n",
       "      <td>LENOVO</td>\n",
       "      <td>Lenovo IdeaPad</td>\n",
       "      <td>Intel Core i5 13420</td>\n",
       "      <td>16</td>\n",
       "      <td>512</td>\n",
       "      <td>14.000</td>\n",
       "      <td>0</td>\n",
       "      <td>0</td>\n",
       "      <td>0</td>\n",
       "      <td>1</td>\n",
       "      <td>0</td>\n",
       "      <td>3.9</td>\n",
       "      <td>68990.0</td>\n",
       "      <td>2</td>\n",
       "      <td>2</td>\n",
       "    </tr>\n",
       "    <tr>\n",
       "      <th>351</th>\n",
       "      <td>DELL</td>\n",
       "      <td>Dell G15</td>\n",
       "      <td>i5-12500</td>\n",
       "      <td>16</td>\n",
       "      <td>1024</td>\n",
       "      <td>15.600</td>\n",
       "      <td>1</td>\n",
       "      <td>0</td>\n",
       "      <td>0</td>\n",
       "      <td>1</td>\n",
       "      <td>0</td>\n",
       "      <td>4.1</td>\n",
       "      <td>77490.0</td>\n",
       "      <td>2</td>\n",
       "      <td>2</td>\n",
       "    </tr>\n",
       "    <tr>\n",
       "      <th>353</th>\n",
       "      <td>FUJITSU</td>\n",
       "      <td>Fujitsu CH</td>\n",
       "      <td>Intel Core i5 13</td>\n",
       "      <td>16</td>\n",
       "      <td>512</td>\n",
       "      <td>13.300</td>\n",
       "      <td>0</td>\n",
       "      <td>1</td>\n",
       "      <td>0</td>\n",
       "      <td>1</td>\n",
       "      <td>0</td>\n",
       "      <td>4.5</td>\n",
       "      <td>74990.0</td>\n",
       "      <td>2</td>\n",
       "      <td>2</td>\n",
       "    </tr>\n",
       "  </tbody>\n",
       "</table>\n",
       "<p>113 rows × 15 columns</p>\n",
       "</div>"
      ],
      "text/plain": [
       "         Brand      ProductName            Processor  RAM  Storage    Size  \\\n",
       "4       LENOVO  Lenovo ThinkPad                  i5    16      256  14.000   \n",
       "9       LENOVO   Lenovo Ideapad        Ryzen 5 7520U   16      512  15.600   \n",
       "15         MSI       MSI Modern              i5-1155   16      512  15.748   \n",
       "19      LENOVO   Lenovo IdeaPad     Intel Core i5 12   16      512  15.600   \n",
       "26        ACER      Acer Aspire                  i3    16      512  15.600   \n",
       "..         ...              ...                  ...  ...      ...     ...   \n",
       "337  ZEBRONICS    ZEBRONICS NBC     Intel Core i7 12   16     1024  15.600   \n",
       "340        MSI        MSI Bravo        Ryzen 5 7535H   16      512  15.748   \n",
       "345     LENOVO   Lenovo IdeaPad  Intel Core i5 13420   16      512  14.000   \n",
       "351       DELL         Dell G15             i5-12500   16     1024  15.600   \n",
       "353    FUJITSU       Fujitsu CH     Intel Core i5 13   16      512  13.300   \n",
       "\n",
       "     Gaming  FingerPrint  OLED  SSD  Renewed  Rating    Price  PType  Cluster  \n",
       "4         0            0     0    1        1     3.3  14999.0      2        2  \n",
       "9         0            0     0    1        0     3.9  43990.0      2        2  \n",
       "15        0            0     0    1        0     3.8  39990.0      2        2  \n",
       "19        0            0     0    1        0     4.0  55490.0      2        2  \n",
       "26        0            1     0    1        0     5.0  39990.0      2        2  \n",
       "..      ...          ...   ...  ...      ...     ...      ...    ...      ...  \n",
       "337       0            1     0    1        0     4.0  52990.0      3        2  \n",
       "340       1            0     0    1        0     3.3  57990.0      2        2  \n",
       "345       0            0     0    1        0     3.9  68990.0      2        2  \n",
       "351       1            0     0    1        0     4.1  77490.0      2        2  \n",
       "353       0            1     0    1        0     4.5  74990.0      2        2  \n",
       "\n",
       "[113 rows x 15 columns]"
      ]
     },
     "execution_count": 146,
     "metadata": {},
     "output_type": "execute_result"
    }
   ],
   "source": [
    "Result=Data[Data[\"Cluster\"]==Cluster_Number]\n",
    "\n",
    "Result"
   ]
  },
  {
   "cell_type": "markdown",
   "id": "02bb29d2-f2b6-431d-8497-595c174e9dcd",
   "metadata": {},
   "source": [
    "# Filetring "
   ]
  },
  {
   "cell_type": "markdown",
   "id": "b00ad91c-0316-4a6d-8dbe-861c6cad7d18",
   "metadata": {},
   "source": [
    "Function for Boolian value of each feature and its value on the basis of whether it is Preferable one or not"
   ]
  },
  {
   "cell_type": "code",
   "execution_count": 147,
   "id": "b2ad27f5-bf3b-44b8-9c07-f62afb2d26c6",
   "metadata": {
    "execution": {
     "iopub.execute_input": "2024-01-19T16:53:22.690291Z",
     "iopub.status.busy": "2024-01-19T16:53:22.690291Z",
     "iopub.status.idle": "2024-01-19T16:53:22.705915Z",
     "shell.execute_reply": "2024-01-19T16:53:22.705915Z",
     "shell.execute_reply.started": "2024-01-19T16:53:22.690291Z"
    },
    "jupyter": {
     "source_hidden": true
    },
    "tags": []
   },
   "outputs": [],
   "source": [
    "def Bool_(value,feature):\n",
    "    return not(value) or (bool(value) and (Data[feature]==value))"
   ]
  },
  {
   "cell_type": "markdown",
   "id": "f4ffc3e6-a969-41a6-9243-42ee5573c7c7",
   "metadata": {},
   "source": [
    "Function for Filtering the Prefered feature values in the Resultant cluster"
   ]
  },
  {
   "cell_type": "code",
   "execution_count": 148,
   "id": "24a04fa2-a4ac-46a4-8ac2-9ca04a2c98a3",
   "metadata": {
    "execution": {
     "iopub.execute_input": "2024-01-19T16:53:23.328721Z",
     "iopub.status.busy": "2024-01-19T16:53:23.327631Z",
     "iopub.status.idle": "2024-01-19T16:53:23.345349Z",
     "shell.execute_reply": "2024-01-19T16:53:23.344444Z",
     "shell.execute_reply.started": "2024-01-19T16:53:23.328632Z"
    },
    "jupyter": {
     "source_hidden": true
    },
    "tags": []
   },
   "outputs": [],
   "source": [
    "def Filter(Brand_,Processor_,RAM_,Storage_,Size_,Gaming_,FingerPrint_,OLED_,SSD_,Renewed_,PType_,data):\n",
    "    Values=[Brand_,Processor_,RAM_,Storage_,Size_,Gaming_,FingerPrint_,OLED_,SSD_,Renewed_,PType_]\n",
    "    Variables=[\"Brand\",\"Processor\",\"RAM\",\"Storage\",\"Size\",\"Gaming\",\"FingerPrint\",\"OLED\",\"SSD\",\"Renewed\",\"PType\"]\n",
    "    Bool_flag=True\n",
    "    for i,j in zip(Values,Variables):\n",
    "        Bool_flag = Bool_flag & Bool_(i,j)\n",
    "    try: \n",
    "        return data[Bool_flag][:] \n",
    "    except: \n",
    "        return data"
   ]
  },
  {
   "cell_type": "markdown",
   "id": "08dd1424-ece5-46ca-a7b6-d2455faa242e",
   "metadata": {},
   "source": [
    "Assign the values if you want to filter the perticular feature in their respective Tab else leave it as None."
   ]
  },
  {
   "cell_type": "code",
   "execution_count": 159,
   "id": "c40a7660-fc5a-4c81-8b6c-35379d29fee0",
   "metadata": {
    "execution": {
     "iopub.execute_input": "2024-01-19T16:59:08.759609Z",
     "iopub.status.busy": "2024-01-19T16:59:08.759609Z",
     "iopub.status.idle": "2024-01-19T16:59:08.764509Z",
     "shell.execute_reply": "2024-01-19T16:59:08.763510Z",
     "shell.execute_reply.started": "2024-01-19T16:59:08.759609Z"
    },
    "tags": []
   },
   "outputs": [],
   "source": [
    "Brand_filter = None\n",
    "Processor_filter= None\n",
    "RAM_filter= None\n",
    "Storage_filter= None\n",
    "Size_filter= None\n",
    "Gaming_filter= None\n",
    "FingerPrint_filter= None\n",
    "OLED_filter= None\n",
    "SSD_filter= None\n",
    "Renewed_filter= None\n",
    "PType_filter=None"
   ]
  },
  {
   "cell_type": "markdown",
   "id": "a0bef0aa-0601-4016-a3b4-6a35a608b869",
   "metadata": {},
   "source": [
    "# Final Reuslt after Filtering"
   ]
  },
  {
   "cell_type": "code",
   "execution_count": 160,
   "id": "52295b0a-2fbe-406d-b118-56bf2ec2491f",
   "metadata": {
    "execution": {
     "iopub.execute_input": "2024-01-19T16:59:09.648591Z",
     "iopub.status.busy": "2024-01-19T16:59:09.648591Z",
     "iopub.status.idle": "2024-01-19T16:59:09.678220Z",
     "shell.execute_reply": "2024-01-19T16:59:09.677533Z",
     "shell.execute_reply.started": "2024-01-19T16:59:09.648591Z"
    },
    "tags": []
   },
   "outputs": [
    {
     "data": {
      "text/html": [
       "<div>\n",
       "<style scoped>\n",
       "    .dataframe tbody tr th:only-of-type {\n",
       "        vertical-align: middle;\n",
       "    }\n",
       "\n",
       "    .dataframe tbody tr th {\n",
       "        vertical-align: top;\n",
       "    }\n",
       "\n",
       "    .dataframe thead th {\n",
       "        text-align: right;\n",
       "    }\n",
       "</style>\n",
       "<table border=\"1\" class=\"dataframe\">\n",
       "  <thead>\n",
       "    <tr style=\"text-align: right;\">\n",
       "      <th></th>\n",
       "      <th>Brand</th>\n",
       "      <th>ProductName</th>\n",
       "      <th>Processor</th>\n",
       "      <th>RAM</th>\n",
       "      <th>Storage</th>\n",
       "      <th>Size</th>\n",
       "      <th>Gaming</th>\n",
       "      <th>FingerPrint</th>\n",
       "      <th>OLED</th>\n",
       "      <th>SSD</th>\n",
       "      <th>Renewed</th>\n",
       "      <th>Rating</th>\n",
       "      <th>Price</th>\n",
       "      <th>PType</th>\n",
       "      <th>Cluster</th>\n",
       "    </tr>\n",
       "  </thead>\n",
       "  <tbody>\n",
       "    <tr>\n",
       "      <th>4</th>\n",
       "      <td>LENOVO</td>\n",
       "      <td>Lenovo ThinkPad</td>\n",
       "      <td>i5</td>\n",
       "      <td>16</td>\n",
       "      <td>256</td>\n",
       "      <td>14.000</td>\n",
       "      <td>0</td>\n",
       "      <td>0</td>\n",
       "      <td>0</td>\n",
       "      <td>1</td>\n",
       "      <td>1</td>\n",
       "      <td>3.3</td>\n",
       "      <td>14999.0</td>\n",
       "      <td>2</td>\n",
       "      <td>2</td>\n",
       "    </tr>\n",
       "    <tr>\n",
       "      <th>9</th>\n",
       "      <td>LENOVO</td>\n",
       "      <td>Lenovo Ideapad</td>\n",
       "      <td>Ryzen 5 7520U</td>\n",
       "      <td>16</td>\n",
       "      <td>512</td>\n",
       "      <td>15.600</td>\n",
       "      <td>0</td>\n",
       "      <td>0</td>\n",
       "      <td>0</td>\n",
       "      <td>1</td>\n",
       "      <td>0</td>\n",
       "      <td>3.9</td>\n",
       "      <td>43990.0</td>\n",
       "      <td>2</td>\n",
       "      <td>2</td>\n",
       "    </tr>\n",
       "    <tr>\n",
       "      <th>15</th>\n",
       "      <td>MSI</td>\n",
       "      <td>MSI Modern</td>\n",
       "      <td>i5-1155</td>\n",
       "      <td>16</td>\n",
       "      <td>512</td>\n",
       "      <td>15.748</td>\n",
       "      <td>0</td>\n",
       "      <td>0</td>\n",
       "      <td>0</td>\n",
       "      <td>1</td>\n",
       "      <td>0</td>\n",
       "      <td>3.8</td>\n",
       "      <td>39990.0</td>\n",
       "      <td>2</td>\n",
       "      <td>2</td>\n",
       "    </tr>\n",
       "    <tr>\n",
       "      <th>19</th>\n",
       "      <td>LENOVO</td>\n",
       "      <td>Lenovo IdeaPad</td>\n",
       "      <td>Intel Core i5 12</td>\n",
       "      <td>16</td>\n",
       "      <td>512</td>\n",
       "      <td>15.600</td>\n",
       "      <td>0</td>\n",
       "      <td>0</td>\n",
       "      <td>0</td>\n",
       "      <td>1</td>\n",
       "      <td>0</td>\n",
       "      <td>4.0</td>\n",
       "      <td>55490.0</td>\n",
       "      <td>2</td>\n",
       "      <td>2</td>\n",
       "    </tr>\n",
       "    <tr>\n",
       "      <th>26</th>\n",
       "      <td>ACER</td>\n",
       "      <td>Acer Aspire</td>\n",
       "      <td>i3</td>\n",
       "      <td>16</td>\n",
       "      <td>512</td>\n",
       "      <td>15.600</td>\n",
       "      <td>0</td>\n",
       "      <td>1</td>\n",
       "      <td>0</td>\n",
       "      <td>1</td>\n",
       "      <td>0</td>\n",
       "      <td>5.0</td>\n",
       "      <td>39990.0</td>\n",
       "      <td>2</td>\n",
       "      <td>2</td>\n",
       "    </tr>\n",
       "    <tr>\n",
       "      <th>...</th>\n",
       "      <td>...</td>\n",
       "      <td>...</td>\n",
       "      <td>...</td>\n",
       "      <td>...</td>\n",
       "      <td>...</td>\n",
       "      <td>...</td>\n",
       "      <td>...</td>\n",
       "      <td>...</td>\n",
       "      <td>...</td>\n",
       "      <td>...</td>\n",
       "      <td>...</td>\n",
       "      <td>...</td>\n",
       "      <td>...</td>\n",
       "      <td>...</td>\n",
       "      <td>...</td>\n",
       "    </tr>\n",
       "    <tr>\n",
       "      <th>337</th>\n",
       "      <td>ZEBRONICS</td>\n",
       "      <td>ZEBRONICS NBC</td>\n",
       "      <td>Intel Core i7 12</td>\n",
       "      <td>16</td>\n",
       "      <td>1024</td>\n",
       "      <td>15.600</td>\n",
       "      <td>0</td>\n",
       "      <td>1</td>\n",
       "      <td>0</td>\n",
       "      <td>1</td>\n",
       "      <td>0</td>\n",
       "      <td>4.0</td>\n",
       "      <td>52990.0</td>\n",
       "      <td>3</td>\n",
       "      <td>2</td>\n",
       "    </tr>\n",
       "    <tr>\n",
       "      <th>340</th>\n",
       "      <td>MSI</td>\n",
       "      <td>MSI Bravo</td>\n",
       "      <td>Ryzen 5 7535H</td>\n",
       "      <td>16</td>\n",
       "      <td>512</td>\n",
       "      <td>15.748</td>\n",
       "      <td>1</td>\n",
       "      <td>0</td>\n",
       "      <td>0</td>\n",
       "      <td>1</td>\n",
       "      <td>0</td>\n",
       "      <td>3.3</td>\n",
       "      <td>57990.0</td>\n",
       "      <td>2</td>\n",
       "      <td>2</td>\n",
       "    </tr>\n",
       "    <tr>\n",
       "      <th>345</th>\n",
       "      <td>LENOVO</td>\n",
       "      <td>Lenovo IdeaPad</td>\n",
       "      <td>Intel Core i5 13420</td>\n",
       "      <td>16</td>\n",
       "      <td>512</td>\n",
       "      <td>14.000</td>\n",
       "      <td>0</td>\n",
       "      <td>0</td>\n",
       "      <td>0</td>\n",
       "      <td>1</td>\n",
       "      <td>0</td>\n",
       "      <td>3.9</td>\n",
       "      <td>68990.0</td>\n",
       "      <td>2</td>\n",
       "      <td>2</td>\n",
       "    </tr>\n",
       "    <tr>\n",
       "      <th>351</th>\n",
       "      <td>DELL</td>\n",
       "      <td>Dell G15</td>\n",
       "      <td>i5-12500</td>\n",
       "      <td>16</td>\n",
       "      <td>1024</td>\n",
       "      <td>15.600</td>\n",
       "      <td>1</td>\n",
       "      <td>0</td>\n",
       "      <td>0</td>\n",
       "      <td>1</td>\n",
       "      <td>0</td>\n",
       "      <td>4.1</td>\n",
       "      <td>77490.0</td>\n",
       "      <td>2</td>\n",
       "      <td>2</td>\n",
       "    </tr>\n",
       "    <tr>\n",
       "      <th>353</th>\n",
       "      <td>FUJITSU</td>\n",
       "      <td>Fujitsu CH</td>\n",
       "      <td>Intel Core i5 13</td>\n",
       "      <td>16</td>\n",
       "      <td>512</td>\n",
       "      <td>13.300</td>\n",
       "      <td>0</td>\n",
       "      <td>1</td>\n",
       "      <td>0</td>\n",
       "      <td>1</td>\n",
       "      <td>0</td>\n",
       "      <td>4.5</td>\n",
       "      <td>74990.0</td>\n",
       "      <td>2</td>\n",
       "      <td>2</td>\n",
       "    </tr>\n",
       "  </tbody>\n",
       "</table>\n",
       "<p>113 rows × 15 columns</p>\n",
       "</div>"
      ],
      "text/plain": [
       "         Brand      ProductName            Processor  RAM  Storage    Size  \\\n",
       "4       LENOVO  Lenovo ThinkPad                  i5    16      256  14.000   \n",
       "9       LENOVO   Lenovo Ideapad        Ryzen 5 7520U   16      512  15.600   \n",
       "15         MSI       MSI Modern              i5-1155   16      512  15.748   \n",
       "19      LENOVO   Lenovo IdeaPad     Intel Core i5 12   16      512  15.600   \n",
       "26        ACER      Acer Aspire                  i3    16      512  15.600   \n",
       "..         ...              ...                  ...  ...      ...     ...   \n",
       "337  ZEBRONICS    ZEBRONICS NBC     Intel Core i7 12   16     1024  15.600   \n",
       "340        MSI        MSI Bravo        Ryzen 5 7535H   16      512  15.748   \n",
       "345     LENOVO   Lenovo IdeaPad  Intel Core i5 13420   16      512  14.000   \n",
       "351       DELL         Dell G15             i5-12500   16     1024  15.600   \n",
       "353    FUJITSU       Fujitsu CH     Intel Core i5 13   16      512  13.300   \n",
       "\n",
       "     Gaming  FingerPrint  OLED  SSD  Renewed  Rating    Price  PType  Cluster  \n",
       "4         0            0     0    1        1     3.3  14999.0      2        2  \n",
       "9         0            0     0    1        0     3.9  43990.0      2        2  \n",
       "15        0            0     0    1        0     3.8  39990.0      2        2  \n",
       "19        0            0     0    1        0     4.0  55490.0      2        2  \n",
       "26        0            1     0    1        0     5.0  39990.0      2        2  \n",
       "..      ...          ...   ...  ...      ...     ...      ...    ...      ...  \n",
       "337       0            1     0    1        0     4.0  52990.0      3        2  \n",
       "340       1            0     0    1        0     3.3  57990.0      2        2  \n",
       "345       0            0     0    1        0     3.9  68990.0      2        2  \n",
       "351       1            0     0    1        0     4.1  77490.0      2        2  \n",
       "353       0            1     0    1        0     4.5  74990.0      2        2  \n",
       "\n",
       "[113 rows x 15 columns]"
      ]
     },
     "execution_count": 160,
     "metadata": {},
     "output_type": "execute_result"
    }
   ],
   "source": [
    "Final_Result=Filter(Brand_filter,Processor_filter,RAM_filter,Storage_filter,Size_filter,Gaming_filter,FingerPrint_filter,OLED_filter,SSD_filter,Renewed_filter,PType_filter,Result)\n",
    "Final_Result"
   ]
  },
  {
   "cell_type": "markdown",
   "id": "8e0b1015-5faf-400d-b3f0-f3ff60addbf8",
   "metadata": {
    "tags": []
   },
   "source": [
    "### Note: If you want the High Generation laptops then please check even the outlier cluster because this cluster mostly consisits with that laptops"
   ]
  },
  {
   "cell_type": "code",
   "execution_count": 161,
   "id": "3cdf0ab2-934c-4613-a7f8-96883e575002",
   "metadata": {
    "execution": {
     "iopub.execute_input": "2024-01-19T16:59:10.607812Z",
     "iopub.status.busy": "2024-01-19T16:59:10.606921Z",
     "iopub.status.idle": "2024-01-19T16:59:10.615283Z",
     "shell.execute_reply": "2024-01-19T16:59:10.614175Z",
     "shell.execute_reply.started": "2024-01-19T16:59:10.607812Z"
    },
    "jupyter": {
     "source_hidden": true
    },
    "tags": []
   },
   "outputs": [],
   "source": [
    "Brand_filter_o = None\n",
    "Processor_filter_o= None\n",
    "RAM_filter_o= None\n",
    "Storage_filter_o= None\n",
    "Size_filter_o= None\n",
    "Gaming_filter_o= None\n",
    "FingerPrint_filter_o= None\n",
    "OLED_filter_o= None\n",
    "SSD_filter_o= None\n",
    "Renewed_filter_o= None\n",
    "PType_filter_o=None"
   ]
  },
  {
   "cell_type": "code",
   "execution_count": 162,
   "id": "dd7f0eee-5652-42f1-a069-f6eac7503c88",
   "metadata": {
    "execution": {
     "iopub.execute_input": "2024-01-19T16:59:11.171888Z",
     "iopub.status.busy": "2024-01-19T16:59:11.171888Z",
     "iopub.status.idle": "2024-01-19T16:59:11.192409Z",
     "shell.execute_reply": "2024-01-19T16:59:11.191335Z",
     "shell.execute_reply.started": "2024-01-19T16:59:11.171888Z"
    },
    "jupyter": {
     "source_hidden": true
    },
    "tags": []
   },
   "outputs": [
    {
     "data": {
      "text/html": [
       "<div>\n",
       "<style scoped>\n",
       "    .dataframe tbody tr th:only-of-type {\n",
       "        vertical-align: middle;\n",
       "    }\n",
       "\n",
       "    .dataframe tbody tr th {\n",
       "        vertical-align: top;\n",
       "    }\n",
       "\n",
       "    .dataframe thead th {\n",
       "        text-align: right;\n",
       "    }\n",
       "</style>\n",
       "<table border=\"1\" class=\"dataframe\">\n",
       "  <thead>\n",
       "    <tr style=\"text-align: right;\">\n",
       "      <th></th>\n",
       "      <th>Brand</th>\n",
       "      <th>ProductName</th>\n",
       "      <th>Processor</th>\n",
       "      <th>RAM</th>\n",
       "      <th>Storage</th>\n",
       "      <th>Size</th>\n",
       "      <th>Gaming</th>\n",
       "      <th>FingerPrint</th>\n",
       "      <th>OLED</th>\n",
       "      <th>SSD</th>\n",
       "      <th>Renewed</th>\n",
       "      <th>Rating</th>\n",
       "      <th>Price</th>\n",
       "      <th>PType</th>\n",
       "      <th>Cluster</th>\n",
       "    </tr>\n",
       "  </thead>\n",
       "  <tbody>\n",
       "    <tr>\n",
       "      <th>75</th>\n",
       "      <td>DELL</td>\n",
       "      <td>Dell Inspiron</td>\n",
       "      <td>i7-1360</td>\n",
       "      <td>16</td>\n",
       "      <td>1024</td>\n",
       "      <td>13.300000</td>\n",
       "      <td>0</td>\n",
       "      <td>0</td>\n",
       "      <td>0</td>\n",
       "      <td>1</td>\n",
       "      <td>0</td>\n",
       "      <td>5.000000</td>\n",
       "      <td>98990.0</td>\n",
       "      <td>3</td>\n",
       "      <td>4</td>\n",
       "    </tr>\n",
       "    <tr>\n",
       "      <th>96</th>\n",
       "      <td>HP</td>\n",
       "      <td>HP Envy</td>\n",
       "      <td>i7 14</td>\n",
       "      <td>16</td>\n",
       "      <td>1024</td>\n",
       "      <td>14.000000</td>\n",
       "      <td>0</td>\n",
       "      <td>0</td>\n",
       "      <td>0</td>\n",
       "      <td>1</td>\n",
       "      <td>0</td>\n",
       "      <td>3.700000</td>\n",
       "      <td>101999.0</td>\n",
       "      <td>3</td>\n",
       "      <td>4</td>\n",
       "    </tr>\n",
       "    <tr>\n",
       "      <th>104</th>\n",
       "      <td>MICROSOFT</td>\n",
       "      <td>Microsoft Surface</td>\n",
       "      <td>Intel Core i5 12</td>\n",
       "      <td>8</td>\n",
       "      <td>256</td>\n",
       "      <td>13.500000</td>\n",
       "      <td>0</td>\n",
       "      <td>0</td>\n",
       "      <td>0</td>\n",
       "      <td>1</td>\n",
       "      <td>0</td>\n",
       "      <td>3.835312</td>\n",
       "      <td>97990.0</td>\n",
       "      <td>2</td>\n",
       "      <td>4</td>\n",
       "    </tr>\n",
       "    <tr>\n",
       "      <th>122</th>\n",
       "      <td>ACER</td>\n",
       "      <td>Acer Predator</td>\n",
       "      <td>i9</td>\n",
       "      <td>16</td>\n",
       "      <td>1024</td>\n",
       "      <td>16.000000</td>\n",
       "      <td>1</td>\n",
       "      <td>0</td>\n",
       "      <td>0</td>\n",
       "      <td>1</td>\n",
       "      <td>0</td>\n",
       "      <td>4.300000</td>\n",
       "      <td>160991.0</td>\n",
       "      <td>3</td>\n",
       "      <td>4</td>\n",
       "    </tr>\n",
       "    <tr>\n",
       "      <th>152</th>\n",
       "      <td>ASUS</td>\n",
       "      <td>ASUS Vivobook</td>\n",
       "      <td>i9-13900</td>\n",
       "      <td>16</td>\n",
       "      <td>1024</td>\n",
       "      <td>14.000000</td>\n",
       "      <td>0</td>\n",
       "      <td>1</td>\n",
       "      <td>1</td>\n",
       "      <td>1</td>\n",
       "      <td>0</td>\n",
       "      <td>3.900000</td>\n",
       "      <td>109990.0</td>\n",
       "      <td>3</td>\n",
       "      <td>4</td>\n",
       "    </tr>\n",
       "    <tr>\n",
       "      <th>163</th>\n",
       "      <td>SAMSUNG</td>\n",
       "      <td>Samsung Galaxy</td>\n",
       "      <td>i5</td>\n",
       "      <td>16</td>\n",
       "      <td>512</td>\n",
       "      <td>15.992094</td>\n",
       "      <td>0</td>\n",
       "      <td>0</td>\n",
       "      <td>0</td>\n",
       "      <td>1</td>\n",
       "      <td>0</td>\n",
       "      <td>4.200000</td>\n",
       "      <td>145990.0</td>\n",
       "      <td>2</td>\n",
       "      <td>4</td>\n",
       "    </tr>\n",
       "    <tr>\n",
       "      <th>172</th>\n",
       "      <td>LENOVO</td>\n",
       "      <td>Lenovo Legion</td>\n",
       "      <td>Ryzen 7 5800H</td>\n",
       "      <td>32</td>\n",
       "      <td>1024</td>\n",
       "      <td>16.000000</td>\n",
       "      <td>1</td>\n",
       "      <td>0</td>\n",
       "      <td>0</td>\n",
       "      <td>1</td>\n",
       "      <td>0</td>\n",
       "      <td>4.500000</td>\n",
       "      <td>129990.0</td>\n",
       "      <td>3</td>\n",
       "      <td>4</td>\n",
       "    </tr>\n",
       "    <tr>\n",
       "      <th>173</th>\n",
       "      <td>LENOVO</td>\n",
       "      <td>Lenovo Legion</td>\n",
       "      <td>Ryzen 7 5800H</td>\n",
       "      <td>16</td>\n",
       "      <td>512</td>\n",
       "      <td>16.000000</td>\n",
       "      <td>1</td>\n",
       "      <td>0</td>\n",
       "      <td>0</td>\n",
       "      <td>1</td>\n",
       "      <td>0</td>\n",
       "      <td>4.500000</td>\n",
       "      <td>112990.0</td>\n",
       "      <td>3</td>\n",
       "      <td>4</td>\n",
       "    </tr>\n",
       "    <tr>\n",
       "      <th>181</th>\n",
       "      <td>LENOVO</td>\n",
       "      <td>Lenovo IdeaPad</td>\n",
       "      <td>Intel Celeron N4020 10</td>\n",
       "      <td>4</td>\n",
       "      <td>128</td>\n",
       "      <td>10.100000</td>\n",
       "      <td>0</td>\n",
       "      <td>0</td>\n",
       "      <td>0</td>\n",
       "      <td>0</td>\n",
       "      <td>0</td>\n",
       "      <td>3.800000</td>\n",
       "      <td>24990.0</td>\n",
       "      <td>1</td>\n",
       "      <td>4</td>\n",
       "    </tr>\n",
       "    <tr>\n",
       "      <th>252</th>\n",
       "      <td>LENOVO</td>\n",
       "      <td>Lenovo IdeaPad</td>\n",
       "      <td>Celeron N4020</td>\n",
       "      <td>4</td>\n",
       "      <td>64</td>\n",
       "      <td>11.600000</td>\n",
       "      <td>0</td>\n",
       "      <td>0</td>\n",
       "      <td>0</td>\n",
       "      <td>0</td>\n",
       "      <td>0</td>\n",
       "      <td>4.400000</td>\n",
       "      <td>18990.0</td>\n",
       "      <td>1</td>\n",
       "      <td>4</td>\n",
       "    </tr>\n",
       "    <tr>\n",
       "      <th>308</th>\n",
       "      <td>ASUS</td>\n",
       "      <td>ASUS Vivobook</td>\n",
       "      <td>i9-13900</td>\n",
       "      <td>16</td>\n",
       "      <td>1024</td>\n",
       "      <td>15.600000</td>\n",
       "      <td>0</td>\n",
       "      <td>0</td>\n",
       "      <td>1</td>\n",
       "      <td>1</td>\n",
       "      <td>0</td>\n",
       "      <td>4.000000</td>\n",
       "      <td>104990.0</td>\n",
       "      <td>3</td>\n",
       "      <td>4</td>\n",
       "    </tr>\n",
       "    <tr>\n",
       "      <th>315</th>\n",
       "      <td>MICROSOFT</td>\n",
       "      <td>Microsoft New</td>\n",
       "      <td>i5</td>\n",
       "      <td>8</td>\n",
       "      <td>256</td>\n",
       "      <td>13.500000</td>\n",
       "      <td>0</td>\n",
       "      <td>0</td>\n",
       "      <td>0</td>\n",
       "      <td>0</td>\n",
       "      <td>0</td>\n",
       "      <td>3.000000</td>\n",
       "      <td>98900.0</td>\n",
       "      <td>2</td>\n",
       "      <td>4</td>\n",
       "    </tr>\n",
       "    <tr>\n",
       "      <th>320</th>\n",
       "      <td>MSI</td>\n",
       "      <td>MSI Sword</td>\n",
       "      <td>i7-12650</td>\n",
       "      <td>16</td>\n",
       "      <td>1024</td>\n",
       "      <td>15.748000</td>\n",
       "      <td>1</td>\n",
       "      <td>0</td>\n",
       "      <td>0</td>\n",
       "      <td>1</td>\n",
       "      <td>0</td>\n",
       "      <td>3.900000</td>\n",
       "      <td>97990.0</td>\n",
       "      <td>3</td>\n",
       "      <td>4</td>\n",
       "    </tr>\n",
       "    <tr>\n",
       "      <th>330</th>\n",
       "      <td>MSI</td>\n",
       "      <td>MSI Sword</td>\n",
       "      <td>i7-12650</td>\n",
       "      <td>8</td>\n",
       "      <td>1024</td>\n",
       "      <td>15.748000</td>\n",
       "      <td>1</td>\n",
       "      <td>0</td>\n",
       "      <td>0</td>\n",
       "      <td>1</td>\n",
       "      <td>0</td>\n",
       "      <td>3.900000</td>\n",
       "      <td>102990.0</td>\n",
       "      <td>3</td>\n",
       "      <td>4</td>\n",
       "    </tr>\n",
       "    <tr>\n",
       "      <th>335</th>\n",
       "      <td>SAMSUNG</td>\n",
       "      <td>Samsung Galaxy</td>\n",
       "      <td>i5</td>\n",
       "      <td>16</td>\n",
       "      <td>512</td>\n",
       "      <td>13.299186</td>\n",
       "      <td>0</td>\n",
       "      <td>1</td>\n",
       "      <td>1</td>\n",
       "      <td>1</td>\n",
       "      <td>0</td>\n",
       "      <td>3.500000</td>\n",
       "      <td>103990.0</td>\n",
       "      <td>2</td>\n",
       "      <td>4</td>\n",
       "    </tr>\n",
       "    <tr>\n",
       "      <th>336</th>\n",
       "      <td>AGB</td>\n",
       "      <td>AGB Octev</td>\n",
       "      <td>i7-7500U</td>\n",
       "      <td>64</td>\n",
       "      <td>64</td>\n",
       "      <td>15.600000</td>\n",
       "      <td>0</td>\n",
       "      <td>0</td>\n",
       "      <td>0</td>\n",
       "      <td>1</td>\n",
       "      <td>0</td>\n",
       "      <td>2.800000</td>\n",
       "      <td>68000.0</td>\n",
       "      <td>3</td>\n",
       "      <td>4</td>\n",
       "    </tr>\n",
       "    <tr>\n",
       "      <th>339</th>\n",
       "      <td>SAMSUNG</td>\n",
       "      <td>Samsung Galaxy</td>\n",
       "      <td>i7</td>\n",
       "      <td>16</td>\n",
       "      <td>512</td>\n",
       "      <td>13.999972</td>\n",
       "      <td>0</td>\n",
       "      <td>0</td>\n",
       "      <td>1</td>\n",
       "      <td>1</td>\n",
       "      <td>0</td>\n",
       "      <td>3.100000</td>\n",
       "      <td>124990.0</td>\n",
       "      <td>3</td>\n",
       "      <td>4</td>\n",
       "    </tr>\n",
       "    <tr>\n",
       "      <th>342</th>\n",
       "      <td>SAMSUNG</td>\n",
       "      <td>Samsung Galaxy</td>\n",
       "      <td>i5</td>\n",
       "      <td>16</td>\n",
       "      <td>512</td>\n",
       "      <td>15.590520</td>\n",
       "      <td>0</td>\n",
       "      <td>1</td>\n",
       "      <td>1</td>\n",
       "      <td>1</td>\n",
       "      <td>0</td>\n",
       "      <td>3.500000</td>\n",
       "      <td>114990.0</td>\n",
       "      <td>2</td>\n",
       "      <td>4</td>\n",
       "    </tr>\n",
       "    <tr>\n",
       "      <th>343</th>\n",
       "      <td>SAMSUNG</td>\n",
       "      <td>Samsung Galaxy</td>\n",
       "      <td>i7</td>\n",
       "      <td>16</td>\n",
       "      <td>1024</td>\n",
       "      <td>13.999972</td>\n",
       "      <td>0</td>\n",
       "      <td>0</td>\n",
       "      <td>1</td>\n",
       "      <td>1</td>\n",
       "      <td>0</td>\n",
       "      <td>3.100000</td>\n",
       "      <td>155990.0</td>\n",
       "      <td>3</td>\n",
       "      <td>4</td>\n",
       "    </tr>\n",
       "  </tbody>\n",
       "</table>\n",
       "</div>"
      ],
      "text/plain": [
       "         Brand        ProductName               Processor  RAM  Storage  \\\n",
       "75        DELL      Dell Inspiron                 i7-1360   16     1024   \n",
       "96          HP            HP Envy                   i7 14   16     1024   \n",
       "104  MICROSOFT  Microsoft Surface        Intel Core i5 12    8      256   \n",
       "122       ACER      Acer Predator                     i9    16     1024   \n",
       "152       ASUS      ASUS Vivobook                i9-13900   16     1024   \n",
       "163    SAMSUNG     Samsung Galaxy                     i5    16      512   \n",
       "172     LENOVO      Lenovo Legion           Ryzen 7 5800H   32     1024   \n",
       "173     LENOVO      Lenovo Legion           Ryzen 7 5800H   16      512   \n",
       "181     LENOVO     Lenovo IdeaPad  Intel Celeron N4020 10    4      128   \n",
       "252     LENOVO     Lenovo IdeaPad           Celeron N4020    4       64   \n",
       "308       ASUS      ASUS Vivobook                i9-13900   16     1024   \n",
       "315  MICROSOFT      Microsoft New                     i5     8      256   \n",
       "320        MSI          MSI Sword                i7-12650   16     1024   \n",
       "330        MSI          MSI Sword                i7-12650    8     1024   \n",
       "335    SAMSUNG     Samsung Galaxy                     i5    16      512   \n",
       "336        AGB          AGB Octev                i7-7500U   64       64   \n",
       "339    SAMSUNG     Samsung Galaxy                     i7    16      512   \n",
       "342    SAMSUNG     Samsung Galaxy                     i5    16      512   \n",
       "343    SAMSUNG     Samsung Galaxy                     i7    16     1024   \n",
       "\n",
       "          Size  Gaming  FingerPrint  OLED  SSD  Renewed    Rating     Price  \\\n",
       "75   13.300000       0            0     0    1        0  5.000000   98990.0   \n",
       "96   14.000000       0            0     0    1        0  3.700000  101999.0   \n",
       "104  13.500000       0            0     0    1        0  3.835312   97990.0   \n",
       "122  16.000000       1            0     0    1        0  4.300000  160991.0   \n",
       "152  14.000000       0            1     1    1        0  3.900000  109990.0   \n",
       "163  15.992094       0            0     0    1        0  4.200000  145990.0   \n",
       "172  16.000000       1            0     0    1        0  4.500000  129990.0   \n",
       "173  16.000000       1            0     0    1        0  4.500000  112990.0   \n",
       "181  10.100000       0            0     0    0        0  3.800000   24990.0   \n",
       "252  11.600000       0            0     0    0        0  4.400000   18990.0   \n",
       "308  15.600000       0            0     1    1        0  4.000000  104990.0   \n",
       "315  13.500000       0            0     0    0        0  3.000000   98900.0   \n",
       "320  15.748000       1            0     0    1        0  3.900000   97990.0   \n",
       "330  15.748000       1            0     0    1        0  3.900000  102990.0   \n",
       "335  13.299186       0            1     1    1        0  3.500000  103990.0   \n",
       "336  15.600000       0            0     0    1        0  2.800000   68000.0   \n",
       "339  13.999972       0            0     1    1        0  3.100000  124990.0   \n",
       "342  15.590520       0            1     1    1        0  3.500000  114990.0   \n",
       "343  13.999972       0            0     1    1        0  3.100000  155990.0   \n",
       "\n",
       "     PType  Cluster  \n",
       "75       3        4  \n",
       "96       3        4  \n",
       "104      2        4  \n",
       "122      3        4  \n",
       "152      3        4  \n",
       "163      2        4  \n",
       "172      3        4  \n",
       "173      3        4  \n",
       "181      1        4  \n",
       "252      1        4  \n",
       "308      3        4  \n",
       "315      2        4  \n",
       "320      3        4  \n",
       "330      3        4  \n",
       "335      2        4  \n",
       "336      3        4  \n",
       "339      3        4  \n",
       "342      2        4  \n",
       "343      3        4  "
      ]
     },
     "execution_count": 162,
     "metadata": {},
     "output_type": "execute_result"
    }
   ],
   "source": [
    "O_data=Data[Data[\"Cluster\"]==N_cluster+1]\n",
    "outlier_result=Filter(Brand_filter_o,Processor_filter_o,RAM_filter_o,Storage_filter_o,Size_filter_o,Gaming_filter_o,FingerPrint_filter_o,OLED_filter_o,SSD_filter_o,Renewed_filter_o,PType_filter_o,O_data)\n",
    "O_data"
   ]
  },
  {
   "cell_type": "markdown",
   "id": "f33911d4-b22c-4ace-831d-abf32fbdaf6b",
   "metadata": {
    "execution": {
     "iopub.execute_input": "2024-01-17T09:38:12.782396Z",
     "iopub.status.busy": "2024-01-17T09:38:12.782396Z",
     "iopub.status.idle": "2024-01-17T09:38:12.785327Z",
     "shell.execute_reply": "2024-01-17T09:38:12.784767Z",
     "shell.execute_reply.started": "2024-01-17T09:38:12.782396Z"
    }
   },
   "source": [
    "# Final Distribution Of the Resultant List of Laptops"
   ]
  },
  {
   "cell_type": "code",
   "execution_count": 163,
   "id": "4bc59f63-cd65-4ce2-9e2c-3a0fb69cf4e3",
   "metadata": {
    "execution": {
     "iopub.execute_input": "2024-01-19T16:59:12.743955Z",
     "iopub.status.busy": "2024-01-19T16:59:12.743955Z",
     "iopub.status.idle": "2024-01-19T16:59:13.520683Z",
     "shell.execute_reply": "2024-01-19T16:59:13.519722Z",
     "shell.execute_reply.started": "2024-01-19T16:59:12.743955Z"
    },
    "tags": []
   },
   "outputs": [
    {
     "data": {
      "image/png": "[encoded data removed]",
      "text/plain": [
       "<Figure size 1440x576 with 6 Axes>"
      ]
     },
     "metadata": {
      "needs_background": "light"
     },
     "output_type": "display_data"
    }
   ],
   "source": [
    "fig,axes=plt.subplots(2,3,figsize=(20,8))\n",
    "Titles=[\"RAM\",\"PType\",\"Storage\",\"Size\",\"Price\"]\n",
    "for i in range(5):\n",
    "    row=i//3\n",
    "    col=i%3\n",
    "    ax=sns.boxplot(Titles[i],data=Final_Result,ax=axes[row,col])\n",
    "plt.tight_layout()\n",
    "plt.show()"
   ]
  },
  {
   "cell_type": "markdown",
   "id": "9065a6a6-dc34-4a9f-8597-6923f7076eb4",
   "metadata": {},
   "source": [
    "cluster 1 =>  mix of low end and mid generation.\n",
    "\n",
    "cluster 2 => mix of mid and high generation.\n",
    "\n",
    "cluster 3 => mid generation."
   ]
  },
  {
   "cell_type": "markdown",
   "id": "61e40dcf-2d0f-417e-9f23-c002dbc51152",
   "metadata": {},
   "source": [
    "## Saving the Final Data"
   ]
  },
  {
   "cell_type": "code",
   "execution_count": 119,
   "id": "548e11bc-a9a1-4c47-b89e-c6bed3863f47",
   "metadata": {
    "execution": {
     "iopub.execute_input": "2024-01-19T15:11:24.790244Z",
     "iopub.status.busy": "2024-01-19T15:11:24.790244Z",
     "iopub.status.idle": "2024-01-19T15:11:25.024386Z",
     "shell.execute_reply": "2024-01-19T15:11:25.024386Z",
     "shell.execute_reply.started": "2024-01-19T15:11:24.790244Z"
    },
    "tags": []
   },
   "outputs": [],
   "source": [
    "Data.to_excel(\"UpdatedLaptops.xlsx\")"
   ]
  },
  {
   "cell_type": "markdown",
   "id": "ff48d830-09bd-4b32-874a-dbdfb203ac4b",
   "metadata": {},
   "source": [
    " Finally done with the model !!!"
   ]
  },
  {
   "cell_type": "markdown",
   "id": "398c104b-f93a-4a07-a537-273104c7eb68",
   "metadata": {},
   "source": [
    "------------------------------------------------------------------------------------------------------------------------------------------------------------------------------------------"
   ]
  }
 ],
 "metadata": {
  "kernelspec": {
   "display_name": "Python 3",
   "language": "python",
   "name": "python3"
  },
  "language_info": {
   "codemirror_mode": {
    "name": "ipython",
    "version": 3
   },
   "file_extension": ".py",
   "mimetype": "text/x-python",
   "name": "python",
   "nbconvert_exporter": "python",
   "pygments_lexer": "ipython3",
   "version": "3.8.8"
  },
  "toc-autonumbering": true,
  "toc-showcode": true,
  "toc-showmarkdowntxt": true,
  "toc-showtags": false
 },
 "nbformat": 4,
 "nbformat_minor": 5
}
